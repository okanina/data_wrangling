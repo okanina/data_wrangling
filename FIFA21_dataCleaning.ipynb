{
 "cells": [
  {
   "cell_type": "code",
   "execution_count": 1,
   "id": "478412fb",
   "metadata": {},
   "outputs": [
    {
     "name": "stderr",
     "output_type": "stream",
     "text": [
      "C:\\Users\\Cynthia\\AppData\\Roaming\\Python\\Python311\\site-packages\\pandas\\core\\arrays\\masked.py:60: UserWarning: Pandas requires version '1.3.6' or newer of 'bottleneck' (version '1.3.5' currently installed).\n",
      "  from pandas.core import (\n"
     ]
    }
   ],
   "source": [
    "# libraries\n",
    "import pandas as pd\n",
    "import numpy as np\n",
    "import warnings \n",
    "warnings.filterwarnings('ignore')"
   ]
  },
  {
   "cell_type": "code",
   "execution_count": 2,
   "id": "e75f8c97",
   "metadata": {},
   "outputs": [
    {
     "data": {
      "text/html": [
       "<div>\n",
       "<style scoped>\n",
       "    .dataframe tbody tr th:only-of-type {\n",
       "        vertical-align: middle;\n",
       "    }\n",
       "\n",
       "    .dataframe tbody tr th {\n",
       "        vertical-align: top;\n",
       "    }\n",
       "\n",
       "    .dataframe thead th {\n",
       "        text-align: right;\n",
       "    }\n",
       "</style>\n",
       "<table border=\"1\" class=\"dataframe\">\n",
       "  <thead>\n",
       "    <tr style=\"text-align: right;\">\n",
       "      <th></th>\n",
       "      <th>ID</th>\n",
       "      <th>Name</th>\n",
       "      <th>LongName</th>\n",
       "      <th>photoUrl</th>\n",
       "      <th>playerUrl</th>\n",
       "      <th>Nationality</th>\n",
       "      <th>Age</th>\n",
       "      <th>↓OVA</th>\n",
       "      <th>POT</th>\n",
       "      <th>Club</th>\n",
       "      <th>Contract</th>\n",
       "      <th>Positions</th>\n",
       "      <th>Height</th>\n",
       "      <th>Weight</th>\n",
       "      <th>Preferred Foot</th>\n",
       "      <th>BOV</th>\n",
       "      <th>Best Position</th>\n",
       "      <th>Joined</th>\n",
       "      <th>Loan Date End</th>\n",
       "      <th>Value</th>\n",
       "      <th>Wage</th>\n",
       "      <th>Release Clause</th>\n",
       "      <th>Attacking</th>\n",
       "      <th>Crossing</th>\n",
       "      <th>Finishing</th>\n",
       "      <th>Heading Accuracy</th>\n",
       "      <th>Short Passing</th>\n",
       "      <th>Volleys</th>\n",
       "      <th>Skill</th>\n",
       "      <th>Dribbling</th>\n",
       "      <th>Curve</th>\n",
       "      <th>FK Accuracy</th>\n",
       "      <th>Long Passing</th>\n",
       "      <th>Ball Control</th>\n",
       "      <th>Movement</th>\n",
       "      <th>Acceleration</th>\n",
       "      <th>Sprint Speed</th>\n",
       "      <th>Agility</th>\n",
       "      <th>Reactions</th>\n",
       "      <th>Balance</th>\n",
       "      <th>Power</th>\n",
       "      <th>Shot Power</th>\n",
       "      <th>Jumping</th>\n",
       "      <th>Stamina</th>\n",
       "      <th>Strength</th>\n",
       "      <th>Long Shots</th>\n",
       "      <th>Mentality</th>\n",
       "      <th>Aggression</th>\n",
       "      <th>Interceptions</th>\n",
       "      <th>Positioning</th>\n",
       "      <th>Vision</th>\n",
       "      <th>Penalties</th>\n",
       "      <th>Composure</th>\n",
       "      <th>Defending</th>\n",
       "      <th>Marking</th>\n",
       "      <th>Standing Tackle</th>\n",
       "      <th>Sliding Tackle</th>\n",
       "      <th>Goalkeeping</th>\n",
       "      <th>GK Diving</th>\n",
       "      <th>GK Handling</th>\n",
       "      <th>GK Kicking</th>\n",
       "      <th>GK Positioning</th>\n",
       "      <th>GK Reflexes</th>\n",
       "      <th>Total Stats</th>\n",
       "      <th>Base Stats</th>\n",
       "      <th>W/F</th>\n",
       "      <th>SM</th>\n",
       "      <th>A/W</th>\n",
       "      <th>D/W</th>\n",
       "      <th>IR</th>\n",
       "      <th>PAC</th>\n",
       "      <th>SHO</th>\n",
       "      <th>PAS</th>\n",
       "      <th>DRI</th>\n",
       "      <th>DEF</th>\n",
       "      <th>PHY</th>\n",
       "      <th>Hits</th>\n",
       "    </tr>\n",
       "  </thead>\n",
       "  <tbody>\n",
       "    <tr>\n",
       "      <th>0</th>\n",
       "      <td>158023</td>\n",
       "      <td>L. Messi</td>\n",
       "      <td>Lionel Messi</td>\n",
       "      <td>https://cdn.sofifa.com/players/158/023/21_60.png</td>\n",
       "      <td>http://sofifa.com/player/158023/lionel-messi/2...</td>\n",
       "      <td>Argentina</td>\n",
       "      <td>33</td>\n",
       "      <td>93</td>\n",
       "      <td>93</td>\n",
       "      <td>\\n\\n\\n\\nFC Barcelona</td>\n",
       "      <td>2004 ~ 2021</td>\n",
       "      <td>RW, ST, CF</td>\n",
       "      <td>170cm</td>\n",
       "      <td>72kg</td>\n",
       "      <td>Left</td>\n",
       "      <td>93</td>\n",
       "      <td>RW</td>\n",
       "      <td>01-Jul-04</td>\n",
       "      <td>NaN</td>\n",
       "      <td>€103.5M</td>\n",
       "      <td>€560K</td>\n",
       "      <td>€138.4M</td>\n",
       "      <td>429</td>\n",
       "      <td>85</td>\n",
       "      <td>95</td>\n",
       "      <td>70</td>\n",
       "      <td>91</td>\n",
       "      <td>88</td>\n",
       "      <td>470</td>\n",
       "      <td>96</td>\n",
       "      <td>93</td>\n",
       "      <td>94</td>\n",
       "      <td>91</td>\n",
       "      <td>96</td>\n",
       "      <td>451</td>\n",
       "      <td>91</td>\n",
       "      <td>80</td>\n",
       "      <td>91</td>\n",
       "      <td>94</td>\n",
       "      <td>95</td>\n",
       "      <td>389</td>\n",
       "      <td>86</td>\n",
       "      <td>68</td>\n",
       "      <td>72</td>\n",
       "      <td>69</td>\n",
       "      <td>94</td>\n",
       "      <td>347</td>\n",
       "      <td>44</td>\n",
       "      <td>40</td>\n",
       "      <td>93</td>\n",
       "      <td>95</td>\n",
       "      <td>75</td>\n",
       "      <td>96</td>\n",
       "      <td>91</td>\n",
       "      <td>32</td>\n",
       "      <td>35</td>\n",
       "      <td>24</td>\n",
       "      <td>54</td>\n",
       "      <td>6</td>\n",
       "      <td>11</td>\n",
       "      <td>15</td>\n",
       "      <td>14</td>\n",
       "      <td>8</td>\n",
       "      <td>2231</td>\n",
       "      <td>466</td>\n",
       "      <td>4 ★</td>\n",
       "      <td>4★</td>\n",
       "      <td>Medium</td>\n",
       "      <td>Low</td>\n",
       "      <td>5 ★</td>\n",
       "      <td>85</td>\n",
       "      <td>92</td>\n",
       "      <td>91</td>\n",
       "      <td>95</td>\n",
       "      <td>38</td>\n",
       "      <td>65</td>\n",
       "      <td>771</td>\n",
       "    </tr>\n",
       "    <tr>\n",
       "      <th>1</th>\n",
       "      <td>20801</td>\n",
       "      <td>Cristiano Ronaldo</td>\n",
       "      <td>C. Ronaldo dos Santos Aveiro</td>\n",
       "      <td>https://cdn.sofifa.com/players/020/801/21_60.png</td>\n",
       "      <td>http://sofifa.com/player/20801/c-ronaldo-dos-s...</td>\n",
       "      <td>Portugal</td>\n",
       "      <td>35</td>\n",
       "      <td>92</td>\n",
       "      <td>92</td>\n",
       "      <td>\\n\\n\\n\\nJuventus</td>\n",
       "      <td>2018 ~ 2022</td>\n",
       "      <td>ST, LW</td>\n",
       "      <td>187cm</td>\n",
       "      <td>83kg</td>\n",
       "      <td>Right</td>\n",
       "      <td>92</td>\n",
       "      <td>ST</td>\n",
       "      <td>10-Jul-18</td>\n",
       "      <td>NaN</td>\n",
       "      <td>€63M</td>\n",
       "      <td>€220K</td>\n",
       "      <td>€75.9M</td>\n",
       "      <td>437</td>\n",
       "      <td>84</td>\n",
       "      <td>95</td>\n",
       "      <td>90</td>\n",
       "      <td>82</td>\n",
       "      <td>86</td>\n",
       "      <td>414</td>\n",
       "      <td>88</td>\n",
       "      <td>81</td>\n",
       "      <td>76</td>\n",
       "      <td>77</td>\n",
       "      <td>92</td>\n",
       "      <td>431</td>\n",
       "      <td>87</td>\n",
       "      <td>91</td>\n",
       "      <td>87</td>\n",
       "      <td>95</td>\n",
       "      <td>71</td>\n",
       "      <td>444</td>\n",
       "      <td>94</td>\n",
       "      <td>95</td>\n",
       "      <td>84</td>\n",
       "      <td>78</td>\n",
       "      <td>93</td>\n",
       "      <td>353</td>\n",
       "      <td>63</td>\n",
       "      <td>29</td>\n",
       "      <td>95</td>\n",
       "      <td>82</td>\n",
       "      <td>84</td>\n",
       "      <td>95</td>\n",
       "      <td>84</td>\n",
       "      <td>28</td>\n",
       "      <td>32</td>\n",
       "      <td>24</td>\n",
       "      <td>58</td>\n",
       "      <td>7</td>\n",
       "      <td>11</td>\n",
       "      <td>15</td>\n",
       "      <td>14</td>\n",
       "      <td>11</td>\n",
       "      <td>2221</td>\n",
       "      <td>464</td>\n",
       "      <td>4 ★</td>\n",
       "      <td>5★</td>\n",
       "      <td>High</td>\n",
       "      <td>Low</td>\n",
       "      <td>5 ★</td>\n",
       "      <td>89</td>\n",
       "      <td>93</td>\n",
       "      <td>81</td>\n",
       "      <td>89</td>\n",
       "      <td>35</td>\n",
       "      <td>77</td>\n",
       "      <td>562</td>\n",
       "    </tr>\n",
       "    <tr>\n",
       "      <th>2</th>\n",
       "      <td>200389</td>\n",
       "      <td>J. Oblak</td>\n",
       "      <td>Jan Oblak</td>\n",
       "      <td>https://cdn.sofifa.com/players/200/389/21_60.png</td>\n",
       "      <td>http://sofifa.com/player/200389/jan-oblak/210006/</td>\n",
       "      <td>Slovenia</td>\n",
       "      <td>27</td>\n",
       "      <td>91</td>\n",
       "      <td>93</td>\n",
       "      <td>\\n\\n\\n\\nAtlético Madrid</td>\n",
       "      <td>2014 ~ 2023</td>\n",
       "      <td>GK</td>\n",
       "      <td>188cm</td>\n",
       "      <td>87kg</td>\n",
       "      <td>Right</td>\n",
       "      <td>91</td>\n",
       "      <td>GK</td>\n",
       "      <td>16-Jul-14</td>\n",
       "      <td>NaN</td>\n",
       "      <td>€120M</td>\n",
       "      <td>€125K</td>\n",
       "      <td>€159.4M</td>\n",
       "      <td>95</td>\n",
       "      <td>13</td>\n",
       "      <td>11</td>\n",
       "      <td>15</td>\n",
       "      <td>43</td>\n",
       "      <td>13</td>\n",
       "      <td>109</td>\n",
       "      <td>12</td>\n",
       "      <td>13</td>\n",
       "      <td>14</td>\n",
       "      <td>40</td>\n",
       "      <td>30</td>\n",
       "      <td>307</td>\n",
       "      <td>43</td>\n",
       "      <td>60</td>\n",
       "      <td>67</td>\n",
       "      <td>88</td>\n",
       "      <td>49</td>\n",
       "      <td>268</td>\n",
       "      <td>59</td>\n",
       "      <td>78</td>\n",
       "      <td>41</td>\n",
       "      <td>78</td>\n",
       "      <td>12</td>\n",
       "      <td>140</td>\n",
       "      <td>34</td>\n",
       "      <td>19</td>\n",
       "      <td>11</td>\n",
       "      <td>65</td>\n",
       "      <td>11</td>\n",
       "      <td>68</td>\n",
       "      <td>57</td>\n",
       "      <td>27</td>\n",
       "      <td>12</td>\n",
       "      <td>18</td>\n",
       "      <td>437</td>\n",
       "      <td>87</td>\n",
       "      <td>92</td>\n",
       "      <td>78</td>\n",
       "      <td>90</td>\n",
       "      <td>90</td>\n",
       "      <td>1413</td>\n",
       "      <td>489</td>\n",
       "      <td>3 ★</td>\n",
       "      <td>1★</td>\n",
       "      <td>Medium</td>\n",
       "      <td>Medium</td>\n",
       "      <td>3 ★</td>\n",
       "      <td>87</td>\n",
       "      <td>92</td>\n",
       "      <td>78</td>\n",
       "      <td>90</td>\n",
       "      <td>52</td>\n",
       "      <td>90</td>\n",
       "      <td>150</td>\n",
       "    </tr>\n",
       "    <tr>\n",
       "      <th>3</th>\n",
       "      <td>192985</td>\n",
       "      <td>K. De Bruyne</td>\n",
       "      <td>Kevin De Bruyne</td>\n",
       "      <td>https://cdn.sofifa.com/players/192/985/21_60.png</td>\n",
       "      <td>http://sofifa.com/player/192985/kevin-de-bruyn...</td>\n",
       "      <td>Belgium</td>\n",
       "      <td>29</td>\n",
       "      <td>91</td>\n",
       "      <td>91</td>\n",
       "      <td>\\n\\n\\n\\nManchester City</td>\n",
       "      <td>2015 ~ 2023</td>\n",
       "      <td>CAM, CM</td>\n",
       "      <td>181cm</td>\n",
       "      <td>70kg</td>\n",
       "      <td>Right</td>\n",
       "      <td>91</td>\n",
       "      <td>CAM</td>\n",
       "      <td>30-Aug-15</td>\n",
       "      <td>NaN</td>\n",
       "      <td>€129M</td>\n",
       "      <td>€370K</td>\n",
       "      <td>€161M</td>\n",
       "      <td>407</td>\n",
       "      <td>94</td>\n",
       "      <td>82</td>\n",
       "      <td>55</td>\n",
       "      <td>94</td>\n",
       "      <td>82</td>\n",
       "      <td>441</td>\n",
       "      <td>88</td>\n",
       "      <td>85</td>\n",
       "      <td>83</td>\n",
       "      <td>93</td>\n",
       "      <td>92</td>\n",
       "      <td>398</td>\n",
       "      <td>77</td>\n",
       "      <td>76</td>\n",
       "      <td>78</td>\n",
       "      <td>91</td>\n",
       "      <td>76</td>\n",
       "      <td>408</td>\n",
       "      <td>91</td>\n",
       "      <td>63</td>\n",
       "      <td>89</td>\n",
       "      <td>74</td>\n",
       "      <td>91</td>\n",
       "      <td>408</td>\n",
       "      <td>76</td>\n",
       "      <td>66</td>\n",
       "      <td>88</td>\n",
       "      <td>94</td>\n",
       "      <td>84</td>\n",
       "      <td>91</td>\n",
       "      <td>186</td>\n",
       "      <td>68</td>\n",
       "      <td>65</td>\n",
       "      <td>53</td>\n",
       "      <td>56</td>\n",
       "      <td>15</td>\n",
       "      <td>13</td>\n",
       "      <td>5</td>\n",
       "      <td>10</td>\n",
       "      <td>13</td>\n",
       "      <td>2304</td>\n",
       "      <td>485</td>\n",
       "      <td>5 ★</td>\n",
       "      <td>4★</td>\n",
       "      <td>High</td>\n",
       "      <td>High</td>\n",
       "      <td>4 ★</td>\n",
       "      <td>76</td>\n",
       "      <td>86</td>\n",
       "      <td>93</td>\n",
       "      <td>88</td>\n",
       "      <td>64</td>\n",
       "      <td>78</td>\n",
       "      <td>207</td>\n",
       "    </tr>\n",
       "    <tr>\n",
       "      <th>4</th>\n",
       "      <td>190871</td>\n",
       "      <td>Neymar Jr</td>\n",
       "      <td>Neymar da Silva Santos Jr.</td>\n",
       "      <td>https://cdn.sofifa.com/players/190/871/21_60.png</td>\n",
       "      <td>http://sofifa.com/player/190871/neymar-da-silv...</td>\n",
       "      <td>Brazil</td>\n",
       "      <td>28</td>\n",
       "      <td>91</td>\n",
       "      <td>91</td>\n",
       "      <td>\\n\\n\\n\\nParis Saint-Germain</td>\n",
       "      <td>2017 ~ 2022</td>\n",
       "      <td>LW, CAM</td>\n",
       "      <td>175cm</td>\n",
       "      <td>68kg</td>\n",
       "      <td>Right</td>\n",
       "      <td>91</td>\n",
       "      <td>LW</td>\n",
       "      <td>03-Aug-17</td>\n",
       "      <td>NaN</td>\n",
       "      <td>€132M</td>\n",
       "      <td>€270K</td>\n",
       "      <td>€166.5M</td>\n",
       "      <td>408</td>\n",
       "      <td>85</td>\n",
       "      <td>87</td>\n",
       "      <td>62</td>\n",
       "      <td>87</td>\n",
       "      <td>87</td>\n",
       "      <td>448</td>\n",
       "      <td>95</td>\n",
       "      <td>88</td>\n",
       "      <td>89</td>\n",
       "      <td>81</td>\n",
       "      <td>95</td>\n",
       "      <td>453</td>\n",
       "      <td>94</td>\n",
       "      <td>89</td>\n",
       "      <td>96</td>\n",
       "      <td>91</td>\n",
       "      <td>83</td>\n",
       "      <td>357</td>\n",
       "      <td>80</td>\n",
       "      <td>62</td>\n",
       "      <td>81</td>\n",
       "      <td>50</td>\n",
       "      <td>84</td>\n",
       "      <td>356</td>\n",
       "      <td>51</td>\n",
       "      <td>36</td>\n",
       "      <td>87</td>\n",
       "      <td>90</td>\n",
       "      <td>92</td>\n",
       "      <td>93</td>\n",
       "      <td>94</td>\n",
       "      <td>35</td>\n",
       "      <td>30</td>\n",
       "      <td>29</td>\n",
       "      <td>59</td>\n",
       "      <td>9</td>\n",
       "      <td>9</td>\n",
       "      <td>15</td>\n",
       "      <td>15</td>\n",
       "      <td>11</td>\n",
       "      <td>2175</td>\n",
       "      <td>451</td>\n",
       "      <td>5 ★</td>\n",
       "      <td>5★</td>\n",
       "      <td>High</td>\n",
       "      <td>Medium</td>\n",
       "      <td>5 ★</td>\n",
       "      <td>91</td>\n",
       "      <td>85</td>\n",
       "      <td>86</td>\n",
       "      <td>94</td>\n",
       "      <td>36</td>\n",
       "      <td>59</td>\n",
       "      <td>595</td>\n",
       "    </tr>\n",
       "  </tbody>\n",
       "</table>\n",
       "</div>"
      ],
      "text/plain": [
       "       ID               Name                      LongName  \\\n",
       "0  158023           L. Messi                  Lionel Messi   \n",
       "1   20801  Cristiano Ronaldo  C. Ronaldo dos Santos Aveiro   \n",
       "2  200389           J. Oblak                     Jan Oblak   \n",
       "3  192985       K. De Bruyne               Kevin De Bruyne   \n",
       "4  190871          Neymar Jr    Neymar da Silva Santos Jr.   \n",
       "\n",
       "                                           photoUrl  \\\n",
       "0  https://cdn.sofifa.com/players/158/023/21_60.png   \n",
       "1  https://cdn.sofifa.com/players/020/801/21_60.png   \n",
       "2  https://cdn.sofifa.com/players/200/389/21_60.png   \n",
       "3  https://cdn.sofifa.com/players/192/985/21_60.png   \n",
       "4  https://cdn.sofifa.com/players/190/871/21_60.png   \n",
       "\n",
       "                                           playerUrl Nationality  Age  ↓OVA  \\\n",
       "0  http://sofifa.com/player/158023/lionel-messi/2...   Argentina   33    93   \n",
       "1  http://sofifa.com/player/20801/c-ronaldo-dos-s...    Portugal   35    92   \n",
       "2  http://sofifa.com/player/200389/jan-oblak/210006/    Slovenia   27    91   \n",
       "3  http://sofifa.com/player/192985/kevin-de-bruyn...     Belgium   29    91   \n",
       "4  http://sofifa.com/player/190871/neymar-da-silv...      Brazil   28    91   \n",
       "\n",
       "   POT                         Club     Contract   Positions Height Weight  \\\n",
       "0   93         \\n\\n\\n\\nFC Barcelona  2004 ~ 2021  RW, ST, CF  170cm   72kg   \n",
       "1   92             \\n\\n\\n\\nJuventus  2018 ~ 2022      ST, LW  187cm   83kg   \n",
       "2   93      \\n\\n\\n\\nAtlético Madrid  2014 ~ 2023          GK  188cm   87kg   \n",
       "3   91      \\n\\n\\n\\nManchester City  2015 ~ 2023     CAM, CM  181cm   70kg   \n",
       "4   91  \\n\\n\\n\\nParis Saint-Germain  2017 ~ 2022     LW, CAM  175cm   68kg   \n",
       "\n",
       "  Preferred Foot  BOV Best Position     Joined Loan Date End    Value   Wage  \\\n",
       "0           Left   93            RW  01-Jul-04           NaN  €103.5M  €560K   \n",
       "1          Right   92            ST  10-Jul-18           NaN     €63M  €220K   \n",
       "2          Right   91            GK  16-Jul-14           NaN    €120M  €125K   \n",
       "3          Right   91           CAM  30-Aug-15           NaN    €129M  €370K   \n",
       "4          Right   91            LW  03-Aug-17           NaN    €132M  €270K   \n",
       "\n",
       "  Release Clause  Attacking  Crossing  Finishing  Heading Accuracy  \\\n",
       "0        €138.4M        429        85         95                70   \n",
       "1         €75.9M        437        84         95                90   \n",
       "2        €159.4M         95        13         11                15   \n",
       "3          €161M        407        94         82                55   \n",
       "4        €166.5M        408        85         87                62   \n",
       "\n",
       "   Short Passing  Volleys  Skill  Dribbling  Curve  FK Accuracy  Long Passing  \\\n",
       "0             91       88    470         96     93           94            91   \n",
       "1             82       86    414         88     81           76            77   \n",
       "2             43       13    109         12     13           14            40   \n",
       "3             94       82    441         88     85           83            93   \n",
       "4             87       87    448         95     88           89            81   \n",
       "\n",
       "   Ball Control  Movement  Acceleration  Sprint Speed  Agility  Reactions  \\\n",
       "0            96       451            91            80       91         94   \n",
       "1            92       431            87            91       87         95   \n",
       "2            30       307            43            60       67         88   \n",
       "3            92       398            77            76       78         91   \n",
       "4            95       453            94            89       96         91   \n",
       "\n",
       "   Balance  Power  Shot Power  Jumping  Stamina  Strength  Long Shots  \\\n",
       "0       95    389          86       68       72        69          94   \n",
       "1       71    444          94       95       84        78          93   \n",
       "2       49    268          59       78       41        78          12   \n",
       "3       76    408          91       63       89        74          91   \n",
       "4       83    357          80       62       81        50          84   \n",
       "\n",
       "   Mentality  Aggression  Interceptions  Positioning  Vision  Penalties  \\\n",
       "0        347          44             40           93      95         75   \n",
       "1        353          63             29           95      82         84   \n",
       "2        140          34             19           11      65         11   \n",
       "3        408          76             66           88      94         84   \n",
       "4        356          51             36           87      90         92   \n",
       "\n",
       "   Composure  Defending  Marking  Standing Tackle  Sliding Tackle  \\\n",
       "0         96         91       32               35              24   \n",
       "1         95         84       28               32              24   \n",
       "2         68         57       27               12              18   \n",
       "3         91        186       68               65              53   \n",
       "4         93         94       35               30              29   \n",
       "\n",
       "   Goalkeeping  GK Diving  GK Handling  GK Kicking  GK Positioning  \\\n",
       "0           54          6           11          15              14   \n",
       "1           58          7           11          15              14   \n",
       "2          437         87           92          78              90   \n",
       "3           56         15           13           5              10   \n",
       "4           59          9            9          15              15   \n",
       "\n",
       "   GK Reflexes  Total Stats  Base Stats  W/F  SM     A/W     D/W   IR  PAC  \\\n",
       "0            8         2231         466  4 ★  4★  Medium     Low  5 ★   85   \n",
       "1           11         2221         464  4 ★  5★    High     Low  5 ★   89   \n",
       "2           90         1413         489  3 ★  1★  Medium  Medium  3 ★   87   \n",
       "3           13         2304         485  5 ★  4★    High    High  4 ★   76   \n",
       "4           11         2175         451  5 ★  5★    High  Medium  5 ★   91   \n",
       "\n",
       "   SHO  PAS  DRI  DEF  PHY Hits  \n",
       "0   92   91   95   38   65  771  \n",
       "1   93   81   89   35   77  562  \n",
       "2   92   78   90   52   90  150  \n",
       "3   86   93   88   64   78  207  \n",
       "4   85   86   94   36   59  595  "
      ]
     },
     "execution_count": 2,
     "metadata": {},
     "output_type": "execute_result"
    }
   ],
   "source": [
    "# reading the data to dataframe\n",
    "df=pd.read_csv(r\"data\\fifa21rawdata.csv\")\n",
    "\n",
    "pd.set_option(\"display.max_columns\", None)\n",
    "df.head()"
   ]
  },
  {
   "cell_type": "markdown",
   "id": "0b2238c7",
   "metadata": {},
   "source": [
    "### ID"
   ]
  },
  {
   "cell_type": "code",
   "execution_count": 3,
   "id": "c9d9ca52",
   "metadata": {},
   "outputs": [
    {
     "data": {
      "text/plain": [
       "dtype('int64')"
      ]
     },
     "execution_count": 3,
     "metadata": {},
     "output_type": "execute_result"
    }
   ],
   "source": [
    "# looking at the datatype.\n",
    "df.ID.dtype"
   ]
  },
  {
   "cell_type": "code",
   "execution_count": 4,
   "id": "46902c07",
   "metadata": {},
   "outputs": [
    {
     "data": {
      "text/plain": [
       "18979"
      ]
     },
     "execution_count": 4,
     "metadata": {},
     "output_type": "execute_result"
    }
   ],
   "source": [
    "# Looking at at the number of unique value\n",
    "df.ID.nunique()"
   ]
  },
  {
   "cell_type": "markdown",
   "id": "c52749e8",
   "metadata": {},
   "source": [
    "### Name"
   ]
  },
  {
   "cell_type": "code",
   "execution_count": 5,
   "id": "308f0cc6",
   "metadata": {},
   "outputs": [
    {
     "data": {
      "text/plain": [
       "dtype('O')"
      ]
     },
     "execution_count": 5,
     "metadata": {},
     "output_type": "execute_result"
    }
   ],
   "source": [
    "# looking at the datatype\n",
    "df.Name.dtype"
   ]
  },
  {
   "cell_type": "code",
   "execution_count": 6,
   "id": "64bc31e0",
   "metadata": {},
   "outputs": [
    {
     "data": {
      "text/plain": [
       "17920"
      ]
     },
     "execution_count": 6,
     "metadata": {},
     "output_type": "execute_result"
    }
   ],
   "source": [
    "df.Name.nunique()"
   ]
  },
  {
   "cell_type": "markdown",
   "id": "ff2ae7ef",
   "metadata": {},
   "source": [
    "### Nationality"
   ]
  },
  {
   "cell_type": "code",
   "execution_count": 7,
   "id": "468af541",
   "metadata": {},
   "outputs": [
    {
     "data": {
      "text/plain": [
       "dtype('O')"
      ]
     },
     "execution_count": 7,
     "metadata": {},
     "output_type": "execute_result"
    }
   ],
   "source": [
    "df.Nationality.dtype"
   ]
  },
  {
   "cell_type": "code",
   "execution_count": 8,
   "id": "1ebfa55d",
   "metadata": {},
   "outputs": [
    {
     "data": {
      "text/plain": [
       "164"
      ]
     },
     "execution_count": 8,
     "metadata": {},
     "output_type": "execute_result"
    }
   ],
   "source": [
    "df.Nationality.nunique()"
   ]
  },
  {
   "cell_type": "code",
   "execution_count": 9,
   "id": "a3df5d72",
   "metadata": {},
   "outputs": [
    {
     "data": {
      "text/plain": [
       "array(['Argentina', 'Portugal', 'Slovenia', 'Belgium', 'Brazil', 'Poland',\n",
       "       'Egypt', 'France', 'Germany', 'Netherlands', 'Senegal', 'Spain',\n",
       "       'England', 'Scotland', 'Korea Republic', 'Costa Rica', 'Italy',\n",
       "       'Gabon', 'Croatia', 'Uruguay', 'Switzerland', 'Serbia', 'Slovakia',\n",
       "       'Morocco', 'Algeria', 'Denmark', 'Hungary', 'Bosnia Herzegovina',\n",
       "       'Nigeria', 'Cameroon', 'Norway', 'Ghana', 'Mexico', 'Austria',\n",
       "       'Albania', 'Colombia', 'Chile', 'Ivory Coast', 'Greece', 'Finland',\n",
       "       'Wales', 'Sweden', 'Togo', 'Czech Republic', 'Russia', 'Venezuela',\n",
       "       'Canada', 'United States', 'Guinea', 'Montenegro', 'Israel',\n",
       "       'Republic of Ireland', 'Ukraine', 'Turkey', 'Ecuador', 'Jamaica',\n",
       "       'DR Congo', 'Australia', 'China PR', 'Armenia', 'Northern Ireland',\n",
       "       'North Macedonia', 'Kosovo', 'Mali', 'Peru',\n",
       "       'Central African Republic', 'Iceland', 'Burkina Faso', 'Paraguay',\n",
       "       'Japan', 'Romania', 'New Zealand', 'Iran', 'Angola', 'Tunisia',\n",
       "       'Syria', 'Dominican Republic', 'Cape Verde', 'Equatorial Guinea',\n",
       "       'Kenya', 'Georgia', 'Panama', 'Zambia', 'Tanzania', 'Zimbabwe',\n",
       "       'Congo', 'South Africa', 'Moldova', 'Mozambique', 'Iraq',\n",
       "       'Guinea Bissau', 'Honduras', 'Cuba', 'Cyprus', 'Lithuania',\n",
       "       'Estonia', 'Madagascar', 'Benin', 'Curacao', 'Saudi Arabia',\n",
       "       'Gambia', 'Uzbekistan', 'Chad', 'United Arab Emirates',\n",
       "       'Saint Kitts and Nevis', 'Libya', 'Sierra Leone', 'Philippines',\n",
       "       'Liberia', 'Bulgaria', 'Comoros', 'Namibia', 'Luxembourg',\n",
       "       'Trinidad & Tobago', 'Bermuda', 'Thailand', 'Burundi',\n",
       "       'New Caledonia', 'Puerto Rico', 'Bolivia', 'Kazakhstan',\n",
       "       'Antigua & Barbuda', 'Latvia', 'Malawi', 'Montserrat',\n",
       "       'São Tomé & Príncipe', 'El Salvador', 'Mauritania', 'Jordan',\n",
       "       'Eritrea', 'Aruba', 'Uganda', 'Chinese Taipei', 'Azerbaijan',\n",
       "       'Afghanistan', 'Faroe Islands', 'Haiti', 'Sudan', 'Grenada',\n",
       "       'Lebanon', 'Guam', 'Palestine', 'Belarus', 'Guyana', 'Rwanda',\n",
       "       'Liechtenstein', 'Saint Lucia', 'Papua New Guinea', 'India',\n",
       "       'Ethiopia', 'Belize', 'Andorra', 'Guatemala', 'Malta', 'Niger',\n",
       "       'Korea DPR', 'Barbados', 'Macau', 'South Sudan', 'Singapore',\n",
       "       'Hong Kong', 'Nicaragua', 'Malaysia', 'Indonesia'], dtype=object)"
      ]
     },
     "execution_count": 9,
     "metadata": {},
     "output_type": "execute_result"
    }
   ],
   "source": [
    "df.Nationality.unique()"
   ]
  },
  {
   "cell_type": "markdown",
   "id": "fa803ccc",
   "metadata": {},
   "source": [
    "### Age"
   ]
  },
  {
   "cell_type": "code",
   "execution_count": 10,
   "id": "ed69740c",
   "metadata": {},
   "outputs": [
    {
     "data": {
      "text/plain": [
       "dtype('int64')"
      ]
     },
     "execution_count": 10,
     "metadata": {},
     "output_type": "execute_result"
    }
   ],
   "source": [
    "df.Age.dtype"
   ]
  },
  {
   "cell_type": "code",
   "execution_count": 11,
   "id": "39a0f671",
   "metadata": {},
   "outputs": [
    {
     "data": {
      "text/plain": [
       "array([33, 35, 27, 29, 28, 31, 21, 34, 32, 25, 26, 30, 20, 24, 22, 23, 19,\n",
       "       38, 42, 36, 37, 18, 17, 39, 40, 41, 16, 43, 53], dtype=int64)"
      ]
     },
     "execution_count": 11,
     "metadata": {},
     "output_type": "execute_result"
    }
   ],
   "source": [
    "df.Age.unique()"
   ]
  },
  {
   "cell_type": "markdown",
   "id": "d628eae5",
   "metadata": {},
   "source": [
    "### ↓OVA"
   ]
  },
  {
   "cell_type": "code",
   "execution_count": 12,
   "id": "0469ad4f",
   "metadata": {},
   "outputs": [
    {
     "data": {
      "text/plain": [
       "dtype('int64')"
      ]
     },
     "execution_count": 12,
     "metadata": {},
     "output_type": "execute_result"
    }
   ],
   "source": [
    "df[\"↓OVA\"].dtype"
   ]
  },
  {
   "cell_type": "code",
   "execution_count": 13,
   "id": "168c32ec",
   "metadata": {},
   "outputs": [
    {
     "data": {
      "text/plain": [
       "array([93, 92, 91, 90, 89, 88, 87, 86, 85, 84, 83, 82, 81, 80, 79, 78, 77,\n",
       "       76, 75, 74, 73, 72, 71, 70, 69, 68, 67, 66, 65, 64, 63, 62, 61, 60,\n",
       "       59, 58, 57, 56, 55, 54, 53, 52, 51, 50, 49, 48, 47], dtype=int64)"
      ]
     },
     "execution_count": 13,
     "metadata": {},
     "output_type": "execute_result"
    }
   ],
   "source": [
    "df[\"↓OVA\"].unique()"
   ]
  },
  {
   "cell_type": "markdown",
   "id": "54b913d0",
   "metadata": {},
   "source": [
    "### POT"
   ]
  },
  {
   "cell_type": "code",
   "execution_count": 14,
   "id": "fd17a1ca",
   "metadata": {},
   "outputs": [
    {
     "data": {
      "text/plain": [
       "dtype('int64')"
      ]
     },
     "execution_count": 14,
     "metadata": {},
     "output_type": "execute_result"
    }
   ],
   "source": [
    "df.POT.dtype"
   ]
  },
  {
   "cell_type": "code",
   "execution_count": 15,
   "id": "73f81855",
   "metadata": {},
   "outputs": [
    {
     "data": {
      "text/plain": [
       "array([93, 92, 91, 90, 95, 89, 88, 87, 86, 85, 84, 83, 82, 81, 80, 79, 78,\n",
       "       77, 76, 75, 74, 73, 72, 71, 70, 69, 68, 67, 66, 65, 64, 63, 62, 61,\n",
       "       60, 59, 58, 57, 56, 55, 54, 53, 52, 51, 50, 49, 48, 47],\n",
       "      dtype=int64)"
      ]
     },
     "execution_count": 15,
     "metadata": {},
     "output_type": "execute_result"
    }
   ],
   "source": [
    "df.POT.unique()"
   ]
  },
  {
   "cell_type": "markdown",
   "id": "da467907",
   "metadata": {},
   "source": [
    "### Club"
   ]
  },
  {
   "cell_type": "code",
   "execution_count": 16,
   "id": "fcb168ee",
   "metadata": {},
   "outputs": [
    {
     "data": {
      "text/plain": [
       "dtype('O')"
      ]
     },
     "execution_count": 16,
     "metadata": {},
     "output_type": "execute_result"
    }
   ],
   "source": [
    "df.Club.dtype"
   ]
  },
  {
   "cell_type": "code",
   "execution_count": 17,
   "id": "2a365372",
   "metadata": {},
   "outputs": [
    {
     "data": {
      "text/plain": [
       "array(['\\n\\n\\n\\nFC Barcelona', '\\n\\n\\n\\nJuventus',\n",
       "       '\\n\\n\\n\\nAtlético Madrid', '\\n\\n\\n\\nManchester City',\n",
       "       '\\n\\n\\n\\nParis Saint-Germain', '\\n\\n\\n\\nFC Bayern München',\n",
       "       '\\n\\n\\n\\nLiverpool', '\\n\\n\\n\\nReal Madrid', '\\n\\n\\n\\nChelsea',\n",
       "       '\\n\\n\\n\\nTottenham Hotspur', '\\n\\n\\n\\nInter', '\\n\\n\\n\\nNapoli',\n",
       "       '\\n\\n\\n\\nBorussia Dortmund', '\\n\\n\\n\\nManchester United',\n",
       "       '\\n\\n\\n\\nArsenal', '\\n\\n\\n\\nLazio', '\\n\\n\\n\\nLeicester City',\n",
       "       '\\n\\n\\n\\nBorussia Mönchengladbach', '\\n\\n\\n\\nReal Sociedad',\n",
       "       '\\n\\n\\n\\nAtalanta', '\\n\\n\\n\\nOlympique Lyonnais', '\\n\\n\\n\\nMilan',\n",
       "       '\\n\\n\\n\\nVillarreal CF', '\\n\\n\\n\\nRB Leipzig', '\\n\\n\\n\\nCagliari',\n",
       "       '\\n\\n\\n\\nAjax', '\\n\\n\\n\\nSL Benfica', '\\n\\n\\n\\nAS Monaco',\n",
       "       '\\n\\n\\n\\nWolverhampton Wanderers', '\\n\\n\\n\\nEverton',\n",
       "       '\\n\\n\\n\\nFiorentina', '\\n\\n\\n\\nFC Porto', '\\n\\n\\n\\nRC Celta',\n",
       "       '\\n\\n\\n\\nTorino', '\\n\\n\\n\\nSevilla FC', '\\n\\n\\n\\nGrêmio',\n",
       "       '\\n\\n\\n\\nReal Betis', '\\n\\n\\n\\nRoma', '\\n\\n\\n\\nNewcastle United',\n",
       "       '\\n\\n\\n\\nEintracht Frankfurt', '\\n\\n\\n\\nValencia CF',\n",
       "       '\\n\\n\\n\\nMedipol Başakşehir FK', '\\n\\n\\n\\nInter Miami',\n",
       "       '\\n\\n\\n\\nBayer 04 Leverkusen', '\\n\\n\\n\\nLevante UD',\n",
       "       '\\n\\n\\n\\nCrystal Palace', '\\n\\n\\n\\nAthletic Club de Bilbao',\n",
       "       '\\n\\n\\n\\nShanghai SIPG FC', '\\n\\n\\n\\nVfL Wolfsburg',\n",
       "       '\\n\\n\\n\\nGuangzhou Evergrande Taobao FC', '\\n\\n\\n\\nAl Shabab',\n",
       "       '\\n\\n\\n\\nOlympique de Marseille', '\\n\\n\\n\\nLos Angeles FC',\n",
       "       '\\n\\n\\n\\nBeijing Sinobo Guoan FC', '\\n\\n\\n\\nGetafe CF',\n",
       "       '\\n\\n\\n\\nSV Werder Bremen', '\\n\\n\\n\\nTSG 1899 Hoffenheim',\n",
       "       '\\n\\n\\n\\nLOSC Lille', '\\n\\n\\n\\nDeportivo Alavés',\n",
       "       '\\n\\n\\n\\nBurnley', '\\n\\n\\n\\nLeeds United', '\\n\\n\\n\\nFulham',\n",
       "       '\\n\\n\\n\\nPFC CSKA Moscow', '\\n\\n\\n\\nGenoa',\n",
       "       '\\n\\n\\n\\nGalatasaray SK', '\\n\\n\\n\\nAtlanta United',\n",
       "       '\\n\\n\\n\\nAtlético Mineiro', '\\n\\n\\n\\nFlamengo',\n",
       "       '\\n\\n\\n\\nPalmeiras', 'No Club', '\\n\\n\\n\\nSão Paulo',\n",
       "       '\\n\\n\\n\\nWest Ham United', '\\n\\n\\n\\nSD Eibar',\n",
       "       '\\n\\n\\n\\nRiver Plate', '\\n\\n\\n\\nOGC Nice',\n",
       "       '\\n\\n\\n\\nReal Valladolid CF', '\\n\\n\\n\\nSporting CP', '\\n\\n\\n\\nPSV',\n",
       "       '\\n\\n\\n\\nFeyenoord', '\\n\\n\\n\\nClub Brugge KV',\n",
       "       '\\n\\n\\n\\nShakhtar Donetsk', '\\n\\n\\n\\nVissel Kobe',\n",
       "       '\\n\\n\\n\\nBoca Juniors', '\\n\\n\\n\\n1. FC Union Berlin',\n",
       "       '\\n\\n\\n\\nDalian YiFang FC', '\\n\\n\\n\\nAS Saint-Étienne',\n",
       "       '\\n\\n\\n\\nSassuolo', '\\n\\n\\n\\nTigres U.A.N.L.',\n",
       "       '\\n\\n\\n\\nDinamo Zagreb', '\\n\\n\\n\\nDynamo Kyiv',\n",
       "       '\\n\\n\\n\\nFluminense', '\\n\\n\\n\\nUdinese', '\\n\\n\\n\\nAston Villa',\n",
       "       '\\n\\n\\n\\nStade Rennais FC', '\\n\\n\\n\\nBeşiktaş JK',\n",
       "       '\\n\\n\\n\\nBrighton & Hove Albion', '\\n\\n\\n\\nHebei China Fortune FC',\n",
       "       '\\n\\n\\n\\nSouthampton', '\\n\\n\\n\\nLokomotiv Moscow',\n",
       "       '\\n\\n\\n\\nJiangsu Suning FC', '\\n\\n\\n\\nAl Hilal',\n",
       "       '\\n\\n\\n\\nWest Bromwich Albion', '\\n\\n\\n\\nFenerbahçe SK',\n",
       "       '\\n\\n\\n\\nFC Groningen', '\\n\\n\\n\\nGuangzhou R&F FC',\n",
       "       '\\n\\n\\n\\nOrlando City SC', '\\n\\n\\n\\nSampdoria',\n",
       "       '\\n\\n\\n\\nStade de Reims', '\\n\\n\\n\\nSheffield United',\n",
       "       '\\n\\n\\n\\nSantos', '\\n\\n\\n\\nInternacional', '\\n\\n\\n\\nCoritiba',\n",
       "       '\\n\\n\\n\\nCA Osasuna', '\\n\\n\\n\\nLA Galaxy', '\\n\\n\\n\\nAl Nassr',\n",
       "       '\\n\\n\\n\\nSC Freiburg', '\\n\\n\\n\\nSC Braga',\n",
       "       '\\n\\n\\n\\nOlympiacos CFP', '\\n\\n\\n\\nToronto FC',\n",
       "       '\\n\\n\\n\\nGranada CF', '\\n\\n\\n\\nFC Schalke 04',\n",
       "       '\\n\\n\\n\\nRC Strasbourg Alsace', '\\n\\n\\n\\nHertha BSC',\n",
       "       '\\n\\n\\n\\nAZ Alkmaar', '\\n\\n\\n\\nSeattle Sounders FC',\n",
       "       '\\n\\n\\n\\nMontpellier HSC', '\\n\\n\\n\\nShanghai Greenland Shenhua FC',\n",
       "       '\\n\\n\\n\\nHamburger SV', '\\n\\n\\n\\nGirona FC', '\\n\\n\\n\\nRacing Club',\n",
       "       '\\n\\n\\n\\nPortland Timbers', '\\n\\n\\n\\nFC Girondins de Bordeaux',\n",
       "       '\\n\\n\\n\\nWatford', '\\n\\n\\n\\nEstudiantes de La Plata',\n",
       "       '\\n\\n\\n\\nClub América', '\\n\\n\\n\\nVitória Guimarães',\n",
       "       '\\n\\n\\n\\nSK Slavia Praha', '\\n\\n\\n\\nTrabzonspor',\n",
       "       '\\n\\n\\n\\nRCD Espanyol', '\\n\\n\\n\\nFC Nantes', '\\n\\n\\n\\nAngers SCO',\n",
       "       '\\n\\n\\n\\nCruz Azul', '\\n\\n\\n\\nBSC Young Boys', '\\n\\n\\n\\nClub León',\n",
       "       '\\n\\n\\n\\nSpartak Moscow', '\\n\\n\\n\\nSivasspor', '\\n\\n\\n\\nElche CF',\n",
       "       '\\n\\n\\n\\nFC Augsburg', '\\n\\n\\n\\nWuhan Zall', '\\n\\n\\n\\nParma',\n",
       "       '\\n\\n\\n\\nRoyal Antwerp FC', '\\n\\n\\n\\nMonterrey',\n",
       "       '\\n\\n\\n\\nSan Lorenzo de Almagro', '\\n\\n\\n\\nAC Monza',\n",
       "       '\\n\\n\\n\\nClub Atlético Lanús', '\\n\\n\\n\\nSD Huesca',\n",
       "       '\\n\\n\\n\\nDerby County', '\\n\\n\\n\\nKayserispor',\n",
       "       '\\n\\n\\n\\nRSC Anderlecht', '\\n\\n\\n\\nCD Leganés',\n",
       "       '\\n\\n\\n\\nVélez Sarsfield', '\\n\\n\\n\\nStade Brestois 29',\n",
       "       '\\n\\n\\n\\nTianjin TEDA FC', '\\n\\n\\n\\nBirmingham City',\n",
       "       '\\n\\n\\n\\nHellas Verona', '\\n\\n\\n\\n1. FC Köln', '\\n\\n\\n\\nAl Wehda',\n",
       "       '\\n\\n\\n\\nBournemouth', '\\n\\n\\n\\nAlanyaspor', '\\n\\n\\n\\nBologna',\n",
       "       '\\n\\n\\n\\nAmiens SC', '\\n\\n\\n\\nCeltic',\n",
       "       '\\n\\n\\n\\nShijiazhuang Ever Bright F.C.', '\\n\\n\\n\\nClub Atlas',\n",
       "       '\\n\\n\\n\\nAl Ahli', '\\n\\n\\n\\nNorwich City',\n",
       "       '\\n\\n\\n\\nFatih Karagümrük S.K.', '\\n\\n\\n\\nClub Tijuana',\n",
       "       '\\n\\n\\n\\nUniversidad Católica', '\\n\\n\\n\\nGoiás',\n",
       "       '\\n\\n\\n\\nBenevento', '\\n\\n\\n\\nIndependiente',\n",
       "       '\\n\\n\\n\\nQingdao Huanghai F.C.', '\\n\\n\\n\\nBrentford',\n",
       "       '\\n\\n\\n\\nAEK Athens', '\\n\\n\\n\\nRacing Club de Lens',\n",
       "       '\\n\\n\\n\\nOlimpia Asunción', '\\n\\n\\n\\nShenzhen FC',\n",
       "       '\\n\\n\\n\\nÇaykur Rizespor', '\\n\\n\\n\\nKAA Gent',\n",
       "       '\\n\\n\\n\\nNew England Revolution', '\\n\\n\\n\\nCádiz CF',\n",
       "       '\\n\\n\\n\\n1. FSV Mainz 05', '\\n\\n\\n\\nVasco da Gama',\n",
       "       '\\n\\n\\n\\nFC Midtjylland', '\\n\\n\\n\\nAl Ain FC',\n",
       "       '\\n\\n\\n\\nSantos Laguna', '\\n\\n\\n\\nSPAL', '\\n\\n\\n\\nPerth Glory',\n",
       "       '\\n\\n\\n\\nFC Utrecht', '\\n\\n\\n\\nMontreal Impact',\n",
       "       '\\n\\n\\n\\nUD Almería', '\\n\\n\\n\\nFortaleza', '\\n\\n\\n\\nSpezia',\n",
       "       '\\n\\n\\n\\nFC Basel 1893', '\\n\\n\\n\\nFC København',\n",
       "       '\\n\\n\\n\\nGodoy Cruz', '\\n\\n\\n\\nDeportivo Toluca',\n",
       "       '\\n\\n\\n\\nNacional de Montevideo', '\\n\\n\\n\\nAalborg BK',\n",
       "       '\\n\\n\\n\\nRio Ave FC', '\\n\\n\\n\\nFC Metz',\n",
       "       '\\n\\n\\n\\nChongqing Dangdai Lifan FC SWM Team',\n",
       "       '\\n\\n\\n\\nRosenborg BK', '\\n\\n\\n\\nFC Red Bull Salzburg',\n",
       "       '\\n\\n\\n\\nBotafogo', '\\n\\n\\n\\nDSC Arminia Bielefeld',\n",
       "       '\\n\\n\\n\\nClub Athletico Paranaense', '\\n\\n\\n\\nRCD Mallorca',\n",
       "       '\\n\\n\\n\\nPachuca', '\\n\\n\\n\\nSwansea City', '\\n\\n\\n\\nKRC Genk',\n",
       "       '\\n\\n\\n\\nEn Avant de Guingamp', '\\n\\n\\n\\nLecce',\n",
       "       '\\n\\n\\n\\nNîmes Olympique', '\\n\\n\\n\\nColo-Colo',\n",
       "       '\\n\\n\\n\\nStade Malherbe Caen', '\\n\\n\\n\\nColumbus Crew SC',\n",
       "       '\\n\\n\\n\\nJunior FC', '\\n\\n\\n\\nVfB Stuttgart',\n",
       "       '\\n\\n\\n\\nMoreirense FC', '\\n\\n\\n\\nRangers FC', '\\n\\n\\n\\nMalmö FF',\n",
       "       '\\n\\n\\n\\nShandong Luneng TaiShan FC', '\\n\\n\\n\\nSparta Praha',\n",
       "       '\\n\\n\\n\\nHatayspor', '\\n\\n\\n\\nChicago Fire',\n",
       "       '\\n\\n\\n\\nToulouse Football Club', '\\n\\n\\n\\nFC Seoul',\n",
       "       '\\n\\n\\n\\nAntalyaspor', '\\n\\n\\n\\nDeportivo Cali',\n",
       "       '\\n\\n\\n\\nKaizer Chiefs', '\\n\\n\\n\\nReal Zaragoza',\n",
       "       '\\n\\n\\n\\nAtlético Clube Goianiense', '\\n\\n\\n\\nPuebla FC',\n",
       "       '\\n\\n\\n\\nFortuna Düsseldorf', '\\n\\n\\n\\nWestern United FC',\n",
       "       '\\n\\n\\n\\nAstra Giurgiu', '\\n\\n\\n\\nHenan Jianye FC',\n",
       "       '\\n\\n\\n\\nBahia', '\\n\\n\\n\\nFamalicão', '\\n\\n\\n\\nAtiker Konyaspor',\n",
       "       '\\n\\n\\n\\nPeñarol', '\\n\\n\\n\\nDC United', '\\n\\n\\n\\nNew York City FC',\n",
       "       '\\n\\n\\n\\nArgentinos Juniors', '\\n\\n\\n\\nU.N.A.M.',\n",
       "       '\\n\\n\\n\\nMinnesota United FC', '\\n\\n\\n\\nNottingham Forest',\n",
       "       '\\n\\n\\n\\nIndependiente del Valle', '\\n\\n\\n\\nDefensa y Justicia',\n",
       "       '\\n\\n\\n\\nPhiladelphia Union', \"\\n\\n\\n\\nNewell's Old Boys\",\n",
       "       '\\n\\n\\n\\nRosario Central', '\\n\\n\\n\\nAtlético de San Luis',\n",
       "       '\\n\\n\\n\\nFC Dallas', '\\n\\n\\n\\nDenizlispor',\n",
       "       '\\n\\n\\n\\nYeni Malatyaspor', '\\n\\n\\n\\nClub Atlético Colón',\n",
       "       '\\n\\n\\n\\nHouston Dynamo', '\\n\\n\\n\\nMillwall',\n",
       "       '\\n\\n\\n\\nClube Sport Marítimo', '\\n\\n\\n\\nMKE Ankaragücü',\n",
       "       '\\n\\n\\n\\nGuadalajara', '\\n\\n\\n\\nBoavista FC',\n",
       "       '\\n\\n\\n\\nSporting Kansas City', '\\n\\n\\n\\nAtlético Nacional',\n",
       "       '\\n\\n\\n\\nCD Lugo', '\\n\\n\\n\\nNew York Red Bulls', '\\n\\n\\n\\nPAOK',\n",
       "       '\\n\\n\\n\\nSC Heerenveen', '\\n\\n\\n\\nDaegu FC',\n",
       "       '\\n\\n\\n\\nPreston North End', '\\n\\n\\n\\nDamac FC', '\\n\\n\\n\\nBrescia',\n",
       "       '\\n\\n\\n\\nVfL Bochum 1848', '\\n\\n\\n\\nVancouver Whitecaps FC',\n",
       "       '\\n\\n\\n\\nSV Sandhausen', '\\n\\n\\n\\nRoyal Excel Mouscron',\n",
       "       '\\n\\n\\n\\nDijon FCO', '\\n\\n\\n\\nMolde FK',\n",
       "       '\\n\\n\\n\\nPanathinaikos FC', '\\n\\n\\n\\nLASK Linz',\n",
       "       '\\n\\n\\n\\nUlsan Hyundai FC', '\\n\\n\\n\\nReal Salt Lake',\n",
       "       '\\n\\n\\n\\nFC Luzern', '\\n\\n\\n\\nViktoria Plzeň',\n",
       "       '\\n\\n\\n\\nOrlando Pirates', '\\n\\n\\n\\nAl Ittihad',\n",
       "       '\\n\\n\\n\\n1. FC Nürnberg', '\\n\\n\\n\\nStandard de Liège',\n",
       "       '\\n\\n\\n\\nRayo Vallecano', '\\n\\n\\n\\nClub Libertad',\n",
       "       '\\n\\n\\n\\nJeonbuk Hyundai Motors',\n",
       "       '\\n\\n\\n\\nWestern Sydney Wanderers', '\\n\\n\\n\\nUnión de Santa Fe',\n",
       "       '\\n\\n\\n\\nFC Sion', '\\n\\n\\n\\nSydney FC', '\\n\\n\\n\\nHannover 96',\n",
       "       '\\n\\n\\n\\nReal Sporting de Gijón', '\\n\\n\\n\\nFC Cincinnati',\n",
       "       '\\n\\n\\n\\nESTAC Troyes', '\\n\\n\\n\\nSan Jose Earthquakes',\n",
       "       '\\n\\n\\n\\nClub Guaraní', '\\n\\n\\n\\nFC Lorient',\n",
       "       '\\n\\n\\n\\nGençlerbirliği SK', '\\n\\n\\n\\nSporting de Charleroi',\n",
       "       '\\n\\n\\n\\nWisła Kraków', '\\n\\n\\n\\nAl Taawoun', '\\n\\n\\n\\nReading',\n",
       "       '\\n\\n\\n\\nGazişehir Gaziantep F.K.', '\\n\\n\\n\\nBlackburn Rovers',\n",
       "       '\\n\\n\\n\\nKashiwa Reysol', '\\n\\n\\n\\nFK Bodø/Glimt',\n",
       "       '\\n\\n\\n\\nWillem II', '\\n\\n\\n\\nVitesse', '\\n\\n\\n\\nGil Vicente FC',\n",
       "       '\\n\\n\\n\\nSønderjyskE', '\\n\\n\\n\\nYokohama F. Marinos',\n",
       "       '\\n\\n\\n\\nFC St. Gallen', '\\n\\n\\n\\nClub Atlético Aldosivi',\n",
       "       '\\n\\n\\n\\nGöztepe SK', '\\n\\n\\n\\nHolstein Kiel', '\\n\\n\\n\\nFC Juárez',\n",
       "       '\\n\\n\\n\\nFCSB (Steaua)', '\\n\\n\\n\\nEttifaq FC', '\\n\\n\\n\\nKAS Eupen',\n",
       "       '\\n\\n\\n\\nFC Tokyo', '\\n\\n\\n\\nMelbourne City FC',\n",
       "       '\\n\\n\\n\\nUniversitatea Craiova', '\\n\\n\\n\\nCD Tondela',\n",
       "       '\\n\\n\\n\\nWolfsberger AC', '\\n\\n\\n\\nCeará Sporting Club',\n",
       "       '\\n\\n\\n\\nRiver Plate Asunción', '\\n\\n\\n\\nStoke City',\n",
       "       '\\n\\n\\n\\nParis FC', '\\n\\n\\n\\nIFK Norrköping', '\\n\\n\\n\\nCrotone',\n",
       "       '\\n\\n\\n\\nCardiff City', '\\n\\n\\n\\nAmérica de Cali',\n",
       "       '\\n\\n\\n\\nAl Faisaly', '\\n\\n\\n\\nIndependiente Medellín',\n",
       "       '\\n\\n\\n\\nPortimonense SC', '\\n\\n\\n\\nCD Tenerife',\n",
       "       '\\n\\n\\n\\nHeracles Almelo', '\\n\\n\\n\\nNashville SC',\n",
       "       '\\n\\n\\n\\nSK Rapid Wien', '\\n\\n\\n\\nKawasaki Frontale',\n",
       "       '\\n\\n\\n\\nClub Necaxa', '\\n\\n\\n\\nChievo Verona',\n",
       "       '\\n\\n\\n\\nLech Poznań', '\\n\\n\\n\\nAIK', '\\n\\n\\n\\nFK Austria Wien',\n",
       "       '\\n\\n\\n\\nQuerétaro', '\\n\\n\\n\\n1. FC Heidenheim 1846',\n",
       "       '\\n\\n\\n\\nLegia Warszawa', '\\n\\n\\n\\nClub Atlético Banfield',\n",
       "       '\\n\\n\\n\\nOs Belenenses', '\\n\\n\\n\\nHuddersfield Town',\n",
       "       '\\n\\n\\n\\nKSV Cercle Brugge', '\\n\\n\\n\\nLDU Quito',\n",
       "       '\\n\\n\\n\\nGimnasia y Esgrima La Plata', '\\n\\n\\n\\nGamba Osaka',\n",
       "       '\\n\\n\\n\\nMiddlesbrough', '\\n\\n\\n\\nServette FC', '\\n\\n\\n\\nEmpoli',\n",
       "       '\\n\\n\\n\\nReal Oviedo', '\\n\\n\\n\\nKasimpaşa SK', '\\n\\n\\n\\nCFR Cluj',\n",
       "       '\\n\\n\\n\\nMillonarios FC', '\\n\\n\\n\\nFC Paços de Ferreira',\n",
       "       '\\n\\n\\n\\nSint-Truidense VV', '\\n\\n\\n\\nAD Alcorcón',\n",
       "       '\\n\\n\\n\\nColorado Rapids', '\\n\\n\\n\\nDinamo Bucureşti',\n",
       "       '\\n\\n\\n\\nCerezo Osaka', '\\n\\n\\n\\nFC Emmen',\n",
       "       '\\n\\n\\n\\nSheffield Wednesday', '\\n\\n\\n\\nFC Erzgebirge Aue',\n",
       "       '\\n\\n\\n\\nRaków Częstochowa', '\\n\\n\\n\\nAtlético Tucumán',\n",
       "       '\\n\\n\\n\\nSV Darmstadt 98', '\\n\\n\\n\\nBristol City',\n",
       "       '\\n\\n\\n\\nOud-Heverlee Leuven', '\\n\\n\\n\\nBarnsley',\n",
       "       '\\n\\n\\n\\nQueens Park Rangers', '\\n\\n\\n\\nSangju Sangmu FC',\n",
       "       '\\n\\n\\n\\nHelsingborgs IF', '\\n\\n\\n\\nAC Ajaccio',\n",
       "       '\\n\\n\\n\\nOceânico FC', '\\n\\n\\n\\nClub Atlético Talleres',\n",
       "       '\\n\\n\\n\\nAl Hazem', '\\n\\n\\n\\nSC Paderborn 07',\n",
       "       '\\n\\n\\n\\nClub Atlético Huracán', '\\n\\n\\n\\nKV Kortrijk',\n",
       "       '\\n\\n\\n\\nEl Nacional', '\\n\\n\\n\\nMazatlán FC', '\\n\\n\\n\\nAberdeen',\n",
       "       '\\n\\n\\n\\nCD Mirandés', '\\n\\n\\n\\nSV Zulte-Waregem',\n",
       "       '\\n\\n\\n\\nPiast Gliwice', '\\n\\n\\n\\nDjurgårdens IF',\n",
       "       '\\n\\n\\n\\nCentral Córdoba', '\\n\\n\\n\\nWellington Phoenix',\n",
       "       '\\n\\n\\n\\nDeportivo Binacional', '\\n\\n\\n\\nPatronato',\n",
       "       '\\n\\n\\n\\nSpVgg Greuther Fürth', '\\n\\n\\n\\nIFK Göteborg',\n",
       "       '\\n\\n\\n\\nFC Cartagena', '\\n\\n\\n\\nSanta Clara', '\\n\\n\\n\\nFC Twente',\n",
       "       '\\n\\n\\n\\nFarense', '\\n\\n\\n\\nADO Den Haag', '\\n\\n\\n\\nAJ Auxerre',\n",
       "       '\\n\\n\\n\\nAl Fateh', '\\n\\n\\n\\nValenciennes FC',\n",
       "       '\\n\\n\\n\\nHokkaido Consadole Sapporo', '\\n\\n\\n\\nFC St. Pauli',\n",
       "       '\\n\\n\\n\\nAlbacete BP', '\\n\\n\\n\\n1. FC Kaiserslautern',\n",
       "       '\\n\\n\\n\\nAl Fayha', '\\n\\n\\n\\nIncheon United FC',\n",
       "       '\\n\\n\\n\\nKV Mechelen', '\\n\\n\\n\\nPohang Steelers',\n",
       "       '\\n\\n\\n\\nCD Nacional', '\\n\\n\\n\\nUnión La Calera',\n",
       "       '\\n\\n\\n\\nBB Erzurumspor', '\\n\\n\\n\\nKashima Antlers',\n",
       "       '\\n\\n\\n\\nArsenal de Sarandí', '\\n\\n\\n\\nHJK Helsinki',\n",
       "       '\\n\\n\\n\\nKarlsruher SC', '\\n\\n\\n\\nAarhus GF', '\\n\\n\\n\\nFC Zürich',\n",
       "       '\\n\\n\\n\\nBarcelona Sporting Club', '\\n\\n\\n\\nSG Dynamo Dresden',\n",
       "       '\\n\\n\\n\\nSanfrecce Hiroshima', '\\n\\n\\n\\nAl Raed',\n",
       "       '\\n\\n\\n\\nSD Ponferradina', '\\n\\n\\n\\nBrøndby IF',\n",
       "       '\\n\\n\\n\\nLechia Gdańsk', '\\n\\n\\n\\nFC Viitorul',\n",
       "       '\\n\\n\\n\\nSK Sturm Graz', '\\n\\n\\n\\nIF Elfsborg',\n",
       "       '\\n\\n\\n\\nGangwon FC', '\\n\\n\\n\\nMelgar FBC',\n",
       "       '\\n\\n\\n\\nClub Atlético Grau', '\\n\\n\\n\\nJagiellonia Białystok',\n",
       "       '\\n\\n\\n\\nWaasland-Beveren', '\\n\\n\\n\\nVfL Osnabrück',\n",
       "       '\\n\\n\\n\\nNagoya Grampus', '\\n\\n\\n\\nCF Fuenlabrada',\n",
       "       '\\n\\n\\n\\nShamrock Rovers', '\\n\\n\\n\\nShimizu S-Pulse',\n",
       "       '\\n\\n\\n\\nRKC Waalwijk', '\\n\\n\\n\\nVålerenga Fotball',\n",
       "       '\\n\\n\\n\\nClermont Foot 63', '\\n\\n\\n\\nFC Ingolstadt 04',\n",
       "       '\\n\\n\\n\\nFC Würzburger Kickers', '\\n\\n\\n\\nGórnik Zabrze',\n",
       "       '\\n\\n\\n\\nCharlton Athletic', '\\n\\n\\n\\nBeerschot AC',\n",
       "       '\\n\\n\\n\\nCoquimbo Unido', '\\n\\n\\n\\nViktoria Köln',\n",
       "       '\\n\\n\\n\\nHull City', '\\n\\n\\n\\nMálaga CF',\n",
       "       '\\n\\n\\n\\nFC Nordsjælland', '\\n\\n\\n\\nUD Las Palmas',\n",
       "       '\\n\\n\\n\\nVVV-Venlo', '\\n\\n\\n\\nGwangJu FC',\n",
       "       '\\n\\n\\n\\nChamois Niortais Football Club', '\\n\\n\\n\\nFC Lugano',\n",
       "       '\\n\\n\\n\\nCusco FC', '\\n\\n\\n\\nSparta Rotterdam',\n",
       "       '\\n\\n\\n\\nSol de América', '\\n\\n\\n\\nPEC Zwolle',\n",
       "       '\\n\\n\\n\\nPogoń Szczecin', '\\n\\n\\n\\nDoncaster Rovers',\n",
       "       '\\n\\n\\n\\nKristiansund BK', '\\n\\n\\n\\nLiverpool Fútbol Club',\n",
       "       '\\n\\n\\n\\nClub Bolívar', '\\n\\n\\n\\nUrawa Red Diamonds',\n",
       "       '\\n\\n\\n\\nSK Brann', '\\n\\n\\n\\nEintracht Braunschweig',\n",
       "       '\\n\\n\\n\\nNacional Asunción', '\\n\\n\\n\\nMelbourne Victory',\n",
       "       '\\n\\n\\n\\nKilmarnock', '\\n\\n\\n\\nDundalk',\n",
       "       '\\n\\n\\n\\nSSV Jahn Regensburg', '\\n\\n\\n\\nAbha Club',\n",
       "       '\\n\\n\\n\\nClub Atlético Tigre', '\\n\\n\\n\\nSuwon Samsung Bluewings',\n",
       "       '\\n\\n\\n\\nShonan Bellmare', '\\n\\n\\n\\nSD Aucas', '\\n\\n\\n\\nEmelec',\n",
       "       '\\n\\n\\n\\nFortuna Sittard', '\\n\\n\\n\\nLa Berrichonne de Châteauroux',\n",
       "       '\\n\\n\\n\\nŚląsk Wrocław', '\\n\\n\\n\\nCoventry City',\n",
       "       '\\n\\n\\n\\nSunderland', '\\n\\n\\n\\nAlianza Lima',\n",
       "       '\\n\\n\\n\\nHammarby IF', '\\n\\n\\n\\nCracovia',\n",
       "       '\\n\\n\\n\\nCE Sabadell FC', '\\n\\n\\n\\nOita Trinita',\n",
       "       '\\n\\n\\n\\nBK Häcken', '\\n\\n\\n\\nLuton Town', '\\n\\n\\n\\nLe Havre AC',\n",
       "       '\\n\\n\\n\\nIK Sirius', '\\n\\n\\n\\nZagłębie Lubin',\n",
       "       '\\n\\n\\n\\nGrenoble Foot 38', '\\n\\n\\n\\nMacarthur FC',\n",
       "       '\\n\\n\\n\\nRodez Aveyron Football', '\\n\\n\\n\\nVegalta Sendai',\n",
       "       '\\n\\n\\n\\nMotherwell', '\\n\\n\\n\\nSV Wehen Wiesbaden',\n",
       "       '\\n\\n\\n\\nAudax Italiano', '\\n\\n\\n\\nGaz Metan Mediaş',\n",
       "       '\\n\\n\\n\\nPortsmouth', '\\n\\n\\n\\nHibernian', '\\n\\n\\n\\nAlways Ready',\n",
       "       '\\n\\n\\n\\nUD Logroñés', '\\n\\n\\n\\nFC Voluntari',\n",
       "       '\\n\\n\\n\\nFC Hermannstadt', '\\n\\n\\n\\nAS Nancy Lorraine',\n",
       "       '\\n\\n\\n\\nRotherham United', '\\n\\n\\n\\nFleetwood Town',\n",
       "       '\\n\\n\\n\\nJorge Wilstermann', '\\n\\n\\n\\nOdense Boldklub',\n",
       "       '\\n\\n\\n\\nMSV Duisburg', '\\n\\n\\n\\nFC Sochaux-Montbéliard',\n",
       "       '\\n\\n\\n\\nMilton Keynes Dons', '\\n\\n\\n\\nRiver Plate Montevideo',\n",
       "       '\\n\\n\\n\\nDelfín SC', '\\n\\n\\n\\nUniversidad Católica del Ecuador',\n",
       "       '\\n\\n\\n\\nDeportivo Pasto', '\\n\\n\\n\\nKV Oostende',\n",
       "       '\\n\\n\\n\\nClub Plaza Colonia', '\\n\\n\\n\\nWigan Athletic',\n",
       "       '\\n\\n\\n\\nFC Botoşani', '\\n\\n\\n\\nC.D. Castellón',\n",
       "       '\\n\\n\\n\\nSCR Altach', '\\n\\n\\n\\nÖrebro SK', '\\n\\n\\n\\nTSV Hartberg',\n",
       "       '\\n\\n\\n\\nStabæk Fotball', '\\n\\n\\n\\nWycombe Wanderers',\n",
       "       '\\n\\n\\n\\nSt. Johnstone FC', '\\n\\n\\n\\nOxford United',\n",
       "       '\\n\\n\\n\\nLincoln City', '\\n\\n\\n\\nRanders FC', '\\n\\n\\n\\nViking FK',\n",
       "       '\\n\\n\\n\\nFC Chambly Oise', '\\n\\n\\n\\nDundee United',\n",
       "       '\\n\\n\\n\\nOriente Petrolero', '\\n\\n\\n\\nOdds BK',\n",
       "       '\\n\\n\\n\\nNacional Potosí', '\\n\\n\\n\\nSepsi OSK',\n",
       "       '\\n\\n\\n\\nFC Hansa Rostock', '\\n\\n\\n\\nLyngby BK',\n",
       "       '\\n\\n\\n\\nSpVgg Unterhaching', '\\n\\n\\n\\nBrisbane Roar',\n",
       "       '\\n\\n\\n\\nSeongnam FC', '\\n\\n\\n\\nSV Ried', '\\n\\n\\n\\nCD Huachipato',\n",
       "       '\\n\\n\\n\\nWSG Tirol', '\\n\\n\\n\\nPodbeskidzie Bielsko-Biała',\n",
       "       '\\n\\n\\n\\nPeterborough United', '\\n\\n\\n\\nClub Blooming',\n",
       "       '\\n\\n\\n\\nWisła Płock', '\\n\\n\\n\\nBusan IPark',\n",
       "       '\\n\\n\\n\\nFSV Zwickau', '\\n\\n\\n\\nMjøndalen IF',\n",
       "       '\\n\\n\\n\\nVejle Boldklub', '\\n\\n\\n\\nPau FC',\n",
       "       '\\n\\n\\n\\nFC Lausanne-Sport', '\\n\\n\\n\\nEstudiantes de Mérida',\n",
       "       '\\n\\n\\n\\nSagan Tosu', '\\n\\n\\n\\nSV Waldhof Mannheim',\n",
       "       '\\n\\n\\n\\nSport Huancayo', '\\n\\n\\n\\nHallescher FC',\n",
       "       '\\n\\n\\n\\nKalmar FF', '\\n\\n\\n\\nSt. Mirren',\n",
       "       '\\n\\n\\n\\nSKN St. Pölten', '\\n\\n\\n\\nSarpsborg 08 FF',\n",
       "       '\\n\\n\\n\\nShrewsbury', '\\n\\n\\n\\nTSV 1860 München',\n",
       "       '\\n\\n\\n\\nSV Meppen', '\\n\\n\\n\\nIpswich Town', '\\n\\n\\n\\nIK Start',\n",
       "       '\\n\\n\\n\\nAdelaide United', '\\n\\n\\n\\nStal Mielec',\n",
       "       '\\n\\n\\n\\nCentro Atlético Fénix', '\\n\\n\\n\\nNewcastle Jets',\n",
       "       '\\n\\n\\n\\nLivingston FC', '\\n\\n\\n\\nAC Mineros de Guayana',\n",
       "       '\\n\\n\\n\\nAFC Wimbledon', '\\n\\n\\n\\nBurton Albion',\n",
       "       '\\n\\n\\n\\nAl Adalah', '\\n\\n\\n\\nWarta Poznań',\n",
       "       '\\n\\n\\n\\nUSL Dunkerque', '\\n\\n\\n\\nBristol Rovers',\n",
       "       '\\n\\n\\n\\nUTA Arad', '\\n\\n\\n\\nÖstersunds FK',\n",
       "       '\\n\\n\\n\\nSportivo Luqueño', '\\n\\n\\n\\nPolitehnica Iaşi',\n",
       "       '\\n\\n\\n\\nSalford City', '\\n\\n\\n\\nCentral Coast Mariners',\n",
       "       '\\n\\n\\n\\nCaracas FC', '\\n\\n\\n\\nAC Horsens',\n",
       "       '\\n\\n\\n\\nPlymouth Argyle', '\\n\\n\\n\\nAalesunds FK',\n",
       "       '\\n\\n\\n\\nCrewe Alexandra', '\\n\\n\\n\\nChindia Târgovişte',\n",
       "       '\\n\\n\\n\\nOldham Athletic', '\\n\\n\\n\\nYokohama FC',\n",
       "       '\\n\\n\\n\\nBlackpool', '\\n\\n\\n\\nNorthampton Town',\n",
       "       '\\n\\n\\n\\nBayern München II', '\\n\\n\\n\\nFK Haugesund',\n",
       "       '\\n\\n\\n\\nKFC Uerdingen 05', '\\n\\n\\n\\nForest Green Rovers',\n",
       "       '\\n\\n\\n\\nCheltenham Town', '\\n\\n\\n\\nStrømsgodset IF',\n",
       "       '\\n\\n\\n\\nMjällby AIF', '\\n\\n\\n\\nExeter City',\n",
       "       '\\n\\n\\n\\nCambridge United', '\\n\\n\\n\\nGrimsby Town',\n",
       "       '\\n\\n\\n\\nFC Vaduz', '\\n\\n\\n\\nTürkgücü München',\n",
       "       '\\n\\n\\n\\nVfB Lübeck', '\\n\\n\\n\\nBolton Wanderers',\n",
       "       '\\n\\n\\n\\nBradford City', '\\n\\n\\n\\n1. FC Magdeburg',\n",
       "       '\\n\\n\\n\\nFC Admira Wacker Mödling',\n",
       "       '\\n\\n\\n\\nHamilton Academical FC', '\\n\\n\\n\\nAragua FC',\n",
       "       '\\n\\n\\n\\nAccrington Stanley', '\\n\\n\\n\\nSwindon Town',\n",
       "       '\\n\\n\\n\\nCarlisle United', '\\n\\n\\n\\nFC Argeș', '\\n\\n\\n\\nPort Vale',\n",
       "       '\\n\\n\\n\\nAcademica Clinceni', '\\n\\n\\n\\nRochdale',\n",
       "       '\\n\\n\\n\\nGillingham', '\\n\\n\\n\\nTranmere Rovers',\n",
       "       '\\n\\n\\n\\nSouthend United', '\\n\\n\\n\\n1. FC Saarbrücken',\n",
       "       '\\n\\n\\n\\nColchester United', '\\n\\n\\n\\nMansfield Town',\n",
       "       '\\n\\n\\n\\nFalkenbergs FF', '\\n\\n\\n\\nSC Verl',\n",
       "       '\\n\\n\\n\\nVarbergs BoIS', '\\n\\n\\n\\nCrawley Town',\n",
       "       '\\n\\n\\n\\nSandefjord Fotball', '\\n\\n\\n\\nNewport County',\n",
       "       '\\n\\n\\n\\nBohemian FC', '\\n\\n\\n\\nRoss County FC',\n",
       "       '\\n\\n\\n\\nScunthorpe United', '\\n\\n\\n\\nMorecambe',\n",
       "       '\\n\\n\\n\\nWalsall', '\\n\\n\\n\\nLeyton Orient', '\\n\\n\\n\\nStevenage',\n",
       "       '\\n\\n\\n\\nBarrow', '\\n\\n\\n\\nDerry City',\n",
       "       '\\n\\n\\n\\nLlaneros de Guanare', '\\n\\n\\n\\nSligo Rovers',\n",
       "       '\\n\\n\\n\\nZamora FC', \"\\n\\n\\n\\nSt. Patrick's Athletic\",\n",
       "       '\\n\\n\\n\\nCork City', '\\n\\n\\n\\nShelbourne FC',\n",
       "       '\\n\\n\\n\\nHarrogate Town', '\\n\\n\\n\\nWaterford FC',\n",
       "       '\\n\\n\\n\\nFinn Harps'], dtype=object)"
      ]
     },
     "execution_count": 17,
     "metadata": {},
     "output_type": "execute_result"
    }
   ],
   "source": [
    "df.Club.unique()"
   ]
  },
  {
   "cell_type": "code",
   "execution_count": 18,
   "id": "9a3fc4a1",
   "metadata": {},
   "outputs": [],
   "source": [
    "df[\"Club\"]=df.Club.str.replace(\"\\n\", \"\")"
   ]
  },
  {
   "cell_type": "markdown",
   "id": "08792073",
   "metadata": {},
   "source": [
    "### Contract"
   ]
  },
  {
   "cell_type": "code",
   "execution_count": 19,
   "id": "2e9c5204",
   "metadata": {},
   "outputs": [
    {
     "data": {
      "text/plain": [
       "dtype('O')"
      ]
     },
     "execution_count": 19,
     "metadata": {},
     "output_type": "execute_result"
    }
   ],
   "source": [
    "df.Contract.dtype"
   ]
  },
  {
   "cell_type": "code",
   "execution_count": 20,
   "id": "4bb18aeb",
   "metadata": {},
   "outputs": [
    {
     "data": {
      "text/plain": [
       "array(['2004 ~ 2021', '2018 ~ 2022', '2014 ~ 2023', '2015 ~ 2023',\n",
       "       '2017 ~ 2022', '2017 ~ 2023', '2018 ~ 2024', '2014 ~ 2022',\n",
       "       '2018 ~ 2023', '2016 ~ 2023', '2013 ~ 2023', '2011 ~ 2023',\n",
       "       '2009 ~ 2022', '2005 ~ 2021', '2011 ~ 2021', '2015 ~ 2022',\n",
       "       '2017 ~ 2024', '2010 ~ 2024', '2012 ~ 2021', '2019 ~ 2024',\n",
       "       '2015 ~ 2024', '2017 ~ 2025', '2020 ~ 2025', '2019 ~ 2023',\n",
       "       '2008 ~ 2023', '2015 ~ 2021', '2020 ~ 2022', '2012 ~ 2022',\n",
       "       '2016 ~ 2025', '2013 ~ 2022', '2011 ~ 2022', '2012 ~ 2024',\n",
       "       '2016 ~ 2021', '2012 ~ 2023', '2008 ~ 2022', '2019 ~ 2022',\n",
       "       '2017 ~ 2021', '2013 ~ 2024', '2020 ~ 2024', '2010 ~ 2022',\n",
       "       '2020 ~ 2021', '2011 ~ 2024', '2020 ~ 2023', '2014 ~ 2024',\n",
       "       '2013 ~ 2026', '2016 ~ 2022', '2010 ~ 2021', '2013 ~ 2021',\n",
       "       '2019 ~ 2025', '2018 ~ 2025', '2016 ~ 2024', '2018 ~ 2021',\n",
       "       '2009 ~ 2024', '2007 ~ 2022', 'Jun 30, 2021 On Loan',\n",
       "       '2009 ~ 2021', '2019 ~ 2021', '2019 ~ 2026', 'Free', '2012 ~ 2028',\n",
       "       '2010 ~ 2023', '2014 ~ 2021', '2015 ~ 2025', '2014 ~ 2026',\n",
       "       '2012 ~ 2025', '2017 ~ 2020', '2002 ~ 2022', '2020 ~ 2027',\n",
       "       '2013 ~ 2025', 'Dec 31, 2020 On Loan', '2019 ~ 2020',\n",
       "       '2011 ~ 2025', '2016 ~ 2020', '2007 ~ 2021', '2020 ~ 2026',\n",
       "       '2010 ~ 2025', '2009 ~ 2023', '2008 ~ 2021', '2020 ~ 2020',\n",
       "       '2016 ~ 2026', 'Jan 30, 2021 On Loan', '2012 ~ 2020',\n",
       "       '2014 ~ 2025', 'Jun 30, 2022 On Loan', '2015 ~ 2020',\n",
       "       'May 31, 2021 On Loan', '2018 ~ 2020', '2014 ~ 2020',\n",
       "       '2013 ~ 2020', '2006 ~ 2024', 'Jul 5, 2021 On Loan',\n",
       "       'Dec 31, 2021 On Loan', '2004 ~ 2025', '2011 ~ 2020',\n",
       "       'Jul 1, 2021 On Loan', 'Jan 1, 2021 On Loan', '2006 ~ 2023',\n",
       "       'Aug 31, 2021 On Loan', '2006 ~ 2021', '2005 ~ 2023',\n",
       "       '2003 ~ 2020', '2009 ~ 2020', '2002 ~ 2020', '2005 ~ 2020',\n",
       "       '2005 ~ 2022', 'Jan 31, 2021 On Loan', '2010 ~ 2020',\n",
       "       'Dec 30, 2021 On Loan', '2008 ~ 2020', '2007 ~ 2020',\n",
       "       '2003 ~ 2021', 'Jun 23, 2021 On Loan', 'Jan 3, 2021 On Loan',\n",
       "       'Nov 27, 2021 On Loan', '2002 ~ 2021', 'Jan 17, 2021 On Loan',\n",
       "       'Jun 30, 2023 On Loan', '1998 ~ 2021', '2003 ~ 2022',\n",
       "       '2007 ~ 2023', 'Jul 31, 2021 On Loan', 'Nov 22, 2020 On Loan',\n",
       "       'May 31, 2022 On Loan', '2006 ~ 2020', 'Dec 30, 2020 On Loan',\n",
       "       '2007 ~ 2025', 'Jan 4, 2021 On Loan', 'Nov 30, 2020 On Loan',\n",
       "       '2004 ~ 2020', '2009 ~ 2025', 'Aug 1, 2021 On Loan'], dtype=object)"
      ]
     },
     "execution_count": 20,
     "metadata": {},
     "output_type": "execute_result"
    }
   ],
   "source": [
    "df.Contract.unique()"
   ]
  },
  {
   "cell_type": "code",
   "execution_count": 21,
   "id": "5f0910bc",
   "metadata": {},
   "outputs": [],
   "source": [
    "def split_column(Contract):\n",
    "    if \"On Loan\" in Contract or Contract==\"Free\":\n",
    "        start_date=np.nan\n",
    "        end_date=np.nan\n",
    "        contract_length=0\n",
    "    else:\n",
    "        start_date, end_date=Contract.split(\"~\")\n",
    "        start_date=int(start_date[:4])\n",
    "        end_date=int(end_date[:5])\n",
    "        contract_length= end_date - start_date\n",
    "            \n",
    "    return start_date, end_date, contract_length    "
   ]
  },
  {
   "cell_type": "code",
   "execution_count": 22,
   "id": "57507bb8",
   "metadata": {},
   "outputs": [
    {
     "data": {
      "text/plain": [
       "array([2004., 2018., 2014., 2015., 2017., 2016., 2013., 2011., 2009.,\n",
       "       2005., 2010., 2012., 2019., 2020., 2008., 2007.,   nan, 2002.,\n",
       "       2006., 2003., 1998.])"
      ]
     },
     "execution_count": 22,
     "metadata": {},
     "output_type": "execute_result"
    }
   ],
   "source": [
    "new_cols=[\"start_date\", \"end_date\"]\n",
    "new_data=df.Contract.apply(lambda x:pd.Series(split_column(x)))\n",
    "\n",
    "for i in range(len(new_cols)):\n",
    "    df.insert(loc=df.columns.get_loc('Contract')+1 +i, column=new_cols[i], value=new_data[i])\n",
    "\n",
    "        \n",
    "df.start_date.unique()"
   ]
  },
  {
   "cell_type": "markdown",
   "id": "1eb93c6b",
   "metadata": {},
   "source": [
    "### Height"
   ]
  },
  {
   "cell_type": "code",
   "execution_count": 23,
   "id": "8bab8a86",
   "metadata": {},
   "outputs": [
    {
     "data": {
      "text/plain": [
       "dtype('O')"
      ]
     },
     "execution_count": 23,
     "metadata": {},
     "output_type": "execute_result"
    }
   ],
   "source": [
    "df.Height.dtype"
   ]
  },
  {
   "cell_type": "code",
   "execution_count": 24,
   "id": "9cbecf03",
   "metadata": {},
   "outputs": [
    {
     "data": {
      "text/plain": [
       "array(['170cm', '187cm', '188cm', '181cm', '175cm', '184cm', '191cm',\n",
       "       '178cm', '193cm', '185cm', '199cm', '173cm', '168cm', '176cm',\n",
       "       '177cm', '183cm', '180cm', '189cm', '179cm', '195cm', '172cm',\n",
       "       '182cm', '186cm', '192cm', '165cm', '194cm', '167cm', '196cm',\n",
       "       '163cm', '190cm', '174cm', '169cm', '171cm', '197cm', '200cm',\n",
       "       '166cm', '6\\'2\"', '164cm', '198cm', '6\\'3\"', '6\\'5\"', '5\\'11\"',\n",
       "       '6\\'4\"', '6\\'1\"', '6\\'0\"', '5\\'10\"', '5\\'9\"', '5\\'6\"', '5\\'7\"',\n",
       "       '5\\'4\"', '201cm', '158cm', '162cm', '161cm', '160cm', '203cm',\n",
       "       '157cm', '156cm', '202cm', '159cm', '206cm', '155cm'], dtype=object)"
      ]
     },
     "execution_count": 24,
     "metadata": {},
     "output_type": "execute_result"
    }
   ],
   "source": [
    "df.Height.unique()"
   ]
  },
  {
   "cell_type": "code",
   "execution_count": 25,
   "id": "5bd4375c",
   "metadata": {},
   "outputs": [
    {
     "data": {
      "text/plain": [
       "190.5"
      ]
     },
     "execution_count": 25,
     "metadata": {},
     "output_type": "execute_result"
    }
   ],
   "source": [
    "feet, inches='6\\'3\"'.split(\"'\")\n",
    "int(feet)*30.48 + int(inches.split('\"')[0])*2.54"
   ]
  },
  {
   "cell_type": "code",
   "execution_count": 26,
   "id": "0f3ba854",
   "metadata": {},
   "outputs": [],
   "source": [
    "def convert_height(height):\n",
    "    if \"cm\" in height:\n",
    "        return int(height.strip('cm'))\n",
    "    else:\n",
    "        feet, inches=height.split(\"'\")\n",
    "        return round(int(feet)*30.48 + int(inches.split('\"')[0])*2.54)\n",
    "df[\"Height\"]=df[\"Height\"].apply(lambda x: convert_height(x))"
   ]
  },
  {
   "cell_type": "code",
   "execution_count": 27,
   "id": "2c20f438",
   "metadata": {},
   "outputs": [],
   "source": [
    "# renaming the new column to show units\n",
    "df=df.rename(columns={\"Height\":\"Height (cm)\"})"
   ]
  },
  {
   "cell_type": "markdown",
   "id": "df4d6210",
   "metadata": {},
   "source": [
    "### Weight"
   ]
  },
  {
   "cell_type": "code",
   "execution_count": 28,
   "id": "e000022a",
   "metadata": {},
   "outputs": [
    {
     "data": {
      "text/plain": [
       "dtype('O')"
      ]
     },
     "execution_count": 28,
     "metadata": {},
     "output_type": "execute_result"
    }
   ],
   "source": [
    "df.Weight.dtype"
   ]
  },
  {
   "cell_type": "code",
   "execution_count": 29,
   "id": "e38867d0",
   "metadata": {},
   "outputs": [
    {
     "data": {
      "text/plain": [
       "array(['72kg', '83kg', '87kg', '70kg', '68kg', '80kg', '71kg', '91kg',\n",
       "       '73kg', '85kg', '92kg', '69kg', '84kg', '96kg', '81kg', '82kg',\n",
       "       '75kg', '86kg', '89kg', '74kg', '76kg', '64kg', '78kg', '90kg',\n",
       "       '66kg', '60kg', '94kg', '79kg', '67kg', '65kg', '59kg', '61kg',\n",
       "       '93kg', '88kg', '97kg', '77kg', '62kg', '63kg', '95kg', '100kg',\n",
       "       '58kg', '183lbs', '179lbs', '172lbs', '196lbs', '176lbs', '185lbs',\n",
       "       '170lbs', '203lbs', '168lbs', '161lbs', '146lbs', '130lbs',\n",
       "       '190lbs', '174lbs', '148lbs', '165lbs', '159lbs', '192lbs',\n",
       "       '181lbs', '139lbs', '154lbs', '157lbs', '163lbs', '98kg', '103kg',\n",
       "       '99kg', '102kg', '56kg', '101kg', '57kg', '55kg', '104kg', '107kg',\n",
       "       '110kg', '53kg', '50kg', '54kg', '52kg'], dtype=object)"
      ]
     },
     "execution_count": 29,
     "metadata": {},
     "output_type": "execute_result"
    }
   ],
   "source": [
    "df.Weight.unique()"
   ]
  },
  {
   "cell_type": "code",
   "execution_count": 30,
   "id": "fc9e917e",
   "metadata": {},
   "outputs": [],
   "source": [
    "def convert_weight(weight):\n",
    "    if \"kg\" in weight:\n",
    "        return weight.replace(\"kg\", \"\")\n",
    "    else:\n",
    "        pound= round(int(weight.strip(\"lbs\")) /2.205)\n",
    "        return pound"
   ]
  },
  {
   "cell_type": "code",
   "execution_count": 31,
   "id": "b6c88ec1",
   "metadata": {},
   "outputs": [],
   "source": [
    "df[\"Weight\"]= df[\"Weight\"].apply(lambda x:convert_weight(x))\n",
    "df=df.rename(columns={\"Weight\":\"Weight (kg)\"})"
   ]
  },
  {
   "cell_type": "markdown",
   "id": "c566fc49",
   "metadata": {},
   "source": [
    "### Joined"
   ]
  },
  {
   "cell_type": "code",
   "execution_count": 32,
   "id": "ef5311d0",
   "metadata": {},
   "outputs": [
    {
     "data": {
      "text/plain": [
       "array(['01-Jul-04', '10-Jul-18', '16-Jul-14', ..., '22-Sep-18',\n",
       "       '28-Feb-15', '06-Mar-18'], dtype=object)"
      ]
     },
     "execution_count": 32,
     "metadata": {},
     "output_type": "execute_result"
    }
   ],
   "source": [
    "df.Joined.unique()"
   ]
  },
  {
   "cell_type": "code",
   "execution_count": 33,
   "id": "26f78362",
   "metadata": {},
   "outputs": [],
   "source": [
    "# df.Joined.strftime()"
   ]
  },
  {
   "cell_type": "markdown",
   "id": "1d84c618",
   "metadata": {},
   "source": [
    "### Value"
   ]
  },
  {
   "cell_type": "code",
   "execution_count": 34,
   "id": "5ebe998b",
   "metadata": {},
   "outputs": [
    {
     "data": {
      "text/plain": [
       "dtype('O')"
      ]
     },
     "execution_count": 34,
     "metadata": {},
     "output_type": "execute_result"
    }
   ],
   "source": [
    "df.Value.dtype"
   ]
  },
  {
   "cell_type": "code",
   "execution_count": 35,
   "id": "29f19288",
   "metadata": {},
   "outputs": [
    {
     "data": {
      "text/plain": [
       "array(['€103.5M', '€63M', '€120M', '€129M', '€132M', '€111M', '€120.5M',\n",
       "       '€102M', '€185.5M', '€110M', '€113M', '€90.5M', '€82M', '€17.5M',\n",
       "       '€83.5M', '€33.5M', '€114.5M', '€78M', '€103M', '€109M', '€92M',\n",
       "       '€10M', '€76.5M', '€89.5M', '€87.5M', '€79.5M', '€124M', '€114M',\n",
       "       '€95M', '€92.5M', '€105.5M', '€88.5M', '€85M', '€81.5M', '€26M',\n",
       "       '€21M', '€56M', '€67.5M', '€53M', '€36.5M', '€51M', '€65.5M',\n",
       "       '€46.5M', '€61.5M', '€72.5M', '€77.5M', '€43.5M', '€32.5M', '€36M',\n",
       "       '€32M', '€54M', '€49.5M', '€57M', '€66.5M', '€74.5M', '€71.5M',\n",
       "       '€121M', '€99M', '€67M', '€86.5M', '€93.5M', '€70M', '€62M',\n",
       "       '€66M', '€58M', '€44M', '€81M', '€37M', '€14.5M', '€46M', '€47.5M',\n",
       "       '€52.5M', '€54.5M', '€34.5M', '€57.5M', '€51.5M', '€44.5M', '€55M',\n",
       "       '€48M', '€60.5M', '€63.5M', '€61M', '€29M', '€58.5M', '€55.5M',\n",
       "       '€42M', '€40.5M', '€43M', '€45.5M', '€34M', '€26.5M', '€42.5M',\n",
       "       '€35.5M', '€45M', '€41.5M', '€40M', '€11M', '€13.5M', '€29.5M',\n",
       "       '€27M', '€15.5M', '€38.5M', '€52M', '€33M', '€19M', '€73.5M',\n",
       "       '€38M', '€35M', '€47M', '€24M', '€30.5M', '€18M', '€28M', '€25.5M',\n",
       "       '€25M', '€31M', '€23.5M', '€30M', '€31.5M', '€22.5M', '€28.5M',\n",
       "       '€4M', '€12.5M', '€37.5M', '€27.5M', '€16M', '€15M', '€20.5M',\n",
       "       '€22M', '€3.4M', '€5M', '€56.5M', '€62.5M', '€0', '€39M', '€24.5M',\n",
       "       '€21.5M', '€13M', '€8M', '€20M', '€8.5M', '€2.9M', '€9M', '€4.6M',\n",
       "       '€50M', '€23M', '€18.5M', '€7M', '€19.5M', '€5.5M', '€7.5M',\n",
       "       '€3.8M', '€14M', '€10.5M', '€16.5M', '€3.6M', '€9.5M', '€39.5M',\n",
       "       '€17M', '€12M', '€11.5M', '€4.9M', '€3M', '€1.9M', '€6.5M',\n",
       "       '€1.7M', '€2.4M', '€3.1M', '€6M', '€3.7M', '€4.7M', '€4.3M',\n",
       "       '€2.1M', '€1.2M', '€1.8M', '€4.8M', '€3.2M', '€1.3M', '€825K',\n",
       "       '€2.3M', '€1.5M', '€3.9M', '€2.6M', '€3.5M', '€2.8M', '€2.7M',\n",
       "       '€4.4M', '€4.1M', '€950K', '€1.6M', '€625K', '€1.1M', '€4.5M',\n",
       "       '€4.2M', '€2.2M', '€3.3M', '€1.4M', '€2M', '€475K', '€925K',\n",
       "       '€750K', '€725K', '€2.5M', '€1M', '€350K', '€525K', '€600K',\n",
       "       '€850K', '€800K', '€550K', '€250K', '€400K', '€425K', '€575K',\n",
       "       '€210K', '€325K', '€900K', '€875K', '€650K', '€700K', '€500K',\n",
       "       '€975K', '€375K', '€775K', '€275K', '€180K', '€450K', '€675K',\n",
       "       '€150K', '€240K', '€300K', '€130K', '€220K', '€200K', '€110K',\n",
       "       '€170K', '€230K', '€90K', '€120K', '€80K', '€190K', '€140K',\n",
       "       '€160K', '€100K', '€60K', '€50K', '€70K', '€45K', '€35K', '€40K',\n",
       "       '€25K', '€20K', '€15K', '€30K', '€9K'], dtype=object)"
      ]
     },
     "execution_count": 35,
     "metadata": {},
     "output_type": "execute_result"
    }
   ],
   "source": [
    "df.Value.unique()"
   ]
  },
  {
   "cell_type": "code",
   "execution_count": 36,
   "id": "c1b83550",
   "metadata": {},
   "outputs": [],
   "source": [
    "df[\"Value\"]=df[\"Value\"].replace({\"€\":\"\", \" \":\"\", \"K\":\"e+03\", \"M\":\"e+06\"}, regex=True).astype(float).astype(int)"
   ]
  },
  {
   "cell_type": "markdown",
   "id": "24235e6a",
   "metadata": {},
   "source": [
    "### Wage"
   ]
  },
  {
   "cell_type": "code",
   "execution_count": 37,
   "id": "2b879c1e",
   "metadata": {},
   "outputs": [
    {
     "data": {
      "text/plain": [
       "dtype('O')"
      ]
     },
     "execution_count": 37,
     "metadata": {},
     "output_type": "execute_result"
    }
   ],
   "source": [
    "df.Wage.dtype"
   ]
  },
  {
   "cell_type": "code",
   "execution_count": 38,
   "id": "f0a73692",
   "metadata": {},
   "outputs": [
    {
     "data": {
      "text/plain": [
       "array(['€560K', '€220K', '€125K', '€370K', '€270K', '€240K', '€250K',\n",
       "       '€160K', '€260K', '€210K', '€310K', '€130K', '€350K', '€300K',\n",
       "       '€190K', '€145K', '€195K', '€100K', '€140K', '€290K', '€82K',\n",
       "       '€110K', '€230K', '€155K', '€200K', '€165K', '€95K', '€170K',\n",
       "       '€105K', '€115K', '€150K', '€135K', '€55K', '€58K', '€81K', '€34K',\n",
       "       '€120K', '€59K', '€90K', '€65K', '€56K', '€71K', '€18K', '€75K',\n",
       "       '€47K', '€20K', '€84K', '€86K', '€74K', '€78K', '€27K', '€68K',\n",
       "       '€85K', '€25K', '€46K', '€83K', '€54K', '€79K', '€175K', '€43K',\n",
       "       '€49K', '€45K', '€38K', '€41K', '€39K', '€23K', '€51K', '€50K',\n",
       "       '€87K', '€30K', '€14K', '€69K', '€31K', '€64K', '€53K', '€35K',\n",
       "       '€21K', '€28K', '€17K', '€33K', '€70K', '€32K', '€89K', '€26K',\n",
       "       '€40K', '€76K', '€72K', '€48K', '€36K', '€29K', '€60K', '€16K',\n",
       "       '€37K', '€24K', '€52K', '€0', '€62K', '€73K', '€63K', '€19K',\n",
       "       '€1K', '€66K', '€80K', '€12K', '€2K', '€42K', '€13K', '€900',\n",
       "       '€57K', '€77K', '€61K', '€22K', '€67K', '€44K', '€15K', '€11K',\n",
       "       '€8K', '€850', '€10K', '€88K', '€500', '€7K', '€6K', '€9K', '€5K',\n",
       "       '€700', '€950', '€750', '€3K', '€650', '€600', '€4K', '€800',\n",
       "       '€550'], dtype=object)"
      ]
     },
     "execution_count": 38,
     "metadata": {},
     "output_type": "execute_result"
    }
   ],
   "source": [
    "df.Wage.unique()"
   ]
  },
  {
   "cell_type": "code",
   "execution_count": 39,
   "id": "5142f15f",
   "metadata": {},
   "outputs": [],
   "source": [
    "df[\"Wage\"]= df[\"Wage\"].replace({\"€\":\"\", \"K\":\"e+03\"}, regex=True).astype(float).astype(int)"
   ]
  },
  {
   "cell_type": "markdown",
   "id": "0e5512a6",
   "metadata": {},
   "source": [
    "### Release Clause"
   ]
  },
  {
   "cell_type": "code",
   "execution_count": 40,
   "id": "95f93cc3",
   "metadata": {},
   "outputs": [
    {
     "data": {
      "text/plain": [
       "dtype('O')"
      ]
     },
     "execution_count": 40,
     "metadata": {},
     "output_type": "execute_result"
    }
   ],
   "source": [
    "df[\"Release Clause\"].dtype"
   ]
  },
  {
   "cell_type": "code",
   "execution_count": 41,
   "id": "814553b1",
   "metadata": {},
   "outputs": [
    {
     "data": {
      "text/plain": [
       "array(['€138.4M', '€75.9M', '€159.4M', ..., '€59K', '€35K', '€64K'],\n",
       "      dtype=object)"
      ]
     },
     "execution_count": 41,
     "metadata": {},
     "output_type": "execute_result"
    }
   ],
   "source": [
    "df[\"Release Clause\"].unique()"
   ]
  },
  {
   "cell_type": "markdown",
   "id": "41659075",
   "metadata": {},
   "source": [
    "### W/F"
   ]
  },
  {
   "cell_type": "code",
   "execution_count": 42,
   "id": "7b5c5da0",
   "metadata": {},
   "outputs": [
    {
     "data": {
      "text/plain": [
       "dtype('O')"
      ]
     },
     "execution_count": 42,
     "metadata": {},
     "output_type": "execute_result"
    }
   ],
   "source": [
    "df[\"W/F\"].dtype"
   ]
  },
  {
   "cell_type": "code",
   "execution_count": 43,
   "id": "af14cc32",
   "metadata": {},
   "outputs": [
    {
     "data": {
      "text/plain": [
       "array(['4 ★', '3 ★', '5 ★', '2 ★', '1 ★'], dtype=object)"
      ]
     },
     "execution_count": 43,
     "metadata": {},
     "output_type": "execute_result"
    }
   ],
   "source": [
    "df[\"W/F\"].unique()"
   ]
  },
  {
   "cell_type": "code",
   "execution_count": 44,
   "id": "caa559ee",
   "metadata": {},
   "outputs": [],
   "source": [
    "df[\"W/F\"]=df[\"W/F\"].str.replace(\"★\", \"\").astype(int)\n"
   ]
  },
  {
   "cell_type": "markdown",
   "id": "8c115c5b",
   "metadata": {},
   "source": [
    "### SM"
   ]
  },
  {
   "cell_type": "code",
   "execution_count": 45,
   "id": "37fdc793",
   "metadata": {},
   "outputs": [
    {
     "data": {
      "text/plain": [
       "dtype('O')"
      ]
     },
     "execution_count": 45,
     "metadata": {},
     "output_type": "execute_result"
    }
   ],
   "source": [
    "df.SM.dtype"
   ]
  },
  {
   "cell_type": "code",
   "execution_count": 46,
   "id": "0cb98f7f",
   "metadata": {},
   "outputs": [
    {
     "data": {
      "text/plain": [
       "array(['4★', '5★', '1★', '2★', '3★'], dtype=object)"
      ]
     },
     "execution_count": 46,
     "metadata": {},
     "output_type": "execute_result"
    }
   ],
   "source": [
    "df.SM.unique()"
   ]
  },
  {
   "cell_type": "code",
   "execution_count": 47,
   "id": "f47d06e8",
   "metadata": {},
   "outputs": [],
   "source": [
    "df.SM=df.SM.str.replace(\"★\", \"\").astype(int)"
   ]
  },
  {
   "cell_type": "markdown",
   "id": "d3396595",
   "metadata": {},
   "source": [
    "### IR"
   ]
  },
  {
   "cell_type": "code",
   "execution_count": 48,
   "id": "a5c7c905",
   "metadata": {},
   "outputs": [
    {
     "data": {
      "text/plain": [
       "dtype('O')"
      ]
     },
     "execution_count": 48,
     "metadata": {},
     "output_type": "execute_result"
    }
   ],
   "source": [
    "df.IR.dtype"
   ]
  },
  {
   "cell_type": "code",
   "execution_count": 49,
   "id": "e675710c",
   "metadata": {},
   "outputs": [
    {
     "data": {
      "text/plain": [
       "array(['5 ★', '3 ★', '4 ★', '2 ★', '1 ★'], dtype=object)"
      ]
     },
     "execution_count": 49,
     "metadata": {},
     "output_type": "execute_result"
    }
   ],
   "source": [
    "df.IR.unique()"
   ]
  },
  {
   "cell_type": "code",
   "execution_count": 50,
   "id": "e7c5702c",
   "metadata": {},
   "outputs": [],
   "source": [
    "df.IR=df.IR.str.replace(\"★\", \"\").astype(int)"
   ]
  },
  {
   "cell_type": "code",
   "execution_count": 55,
   "id": "0f8a2281",
   "metadata": {},
   "outputs": [],
   "source": [
    "df.to_csv(\"FIFA21-clean.csv\", index=False)"
   ]
  },
  {
   "cell_type": "code",
   "execution_count": null,
   "id": "1ee219f7",
   "metadata": {},
   "outputs": [],
   "source": []
  }
 ],
 "metadata": {
  "kernelspec": {
   "display_name": "Python 3 (ipykernel)",
   "language": "python",
   "name": "python3"
  },
  "language_info": {
   "codemirror_mode": {
    "name": "ipython",
    "version": 3
   },
   "file_extension": ".py",
   "mimetype": "text/x-python",
   "name": "python",
   "nbconvert_exporter": "python",
   "pygments_lexer": "ipython3",
   "version": "3.11.5"
  }
 },
 "nbformat": 4,
 "nbformat_minor": 5
}
